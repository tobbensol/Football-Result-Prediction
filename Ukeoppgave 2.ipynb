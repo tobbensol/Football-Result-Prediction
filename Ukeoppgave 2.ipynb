{
 "cells": [
  {
   "cell_type": "code",
   "execution_count": 5,
   "id": "6e3b3ea3",
   "metadata": {
    "scrolled": false
   },
   "outputs": [
    {
     "data": {
      "text/plain": [
       "[       Wk  Day        Date   Time         Home Score            Away  \\\n",
       " 0     1.0  Mon  2017-04-17  13:00      Medkila   1–1       Sandviken   \n",
       " 1     1.0  Mon  2017-04-17  14:00    Avaldsnes   2–1       Vålerenga   \n",
       " 2     1.0  Mon  2017-04-17  15:00   Grand Bodø   2–2    Arna-Bjørnar   \n",
       " 3     1.0  Mon  2017-04-17  15:00          Røa   1–2          Stabæk   \n",
       " 4     1.0  Mon  2017-04-17  15:00  LSK Kvinner   6–1           Klepp   \n",
       " ..    ...  ...         ...    ...          ...   ...             ...   \n",
       " 155  22.0  Sat  2017-11-04  14:00       Stabæk   5–2  Trondheims-Ørn   \n",
       " 156  22.0  Sat  2017-11-04  14:00    Avaldsnes   5–0         Medkila   \n",
       " 157  22.0  Sat  2017-11-04  14:00      Kolbotn   2–0      Grand Bodø   \n",
       " 158  22.0  Sat  2017-11-04  14:00    Sandviken   0–2             Røa   \n",
       " 159  22.0  Sat  2017-11-04  14:00    Vålerenga   2–5     LSK Kvinner   \n",
       " \n",
       "      Attendance                                        Venue  \\\n",
       " 0         307.0                              Harstad Stadion   \n",
       " 1         346.0                      Avaldsnes Idrettssenter   \n",
       " 2         290.0                              Nordlandshallen   \n",
       " 3         348.0                                     Røabanen   \n",
       " 4         280.0                                   LSK-hallen   \n",
       " ..          ...                                          ...   \n",
       " 155       217.0                             Nadderud Stadion   \n",
       " 156       241.0                      Avaldsnes Idrettssenter   \n",
       " 157        97.0                             Sofiemyr stadion   \n",
       " 158       102.0                   Stemmemyren kunstgressbane   \n",
       " 159       174.0  Vålerenga kultur- og idrettspark kunstgr...   \n",
       " \n",
       "                     Referee  Match Report  Notes  \n",
       " 0    Sarah Fatemeh Zangeneh  Match Report    NaN  \n",
       " 1             Marit Folstad  Match Report    NaN  \n",
       " 2      Henrikke Holm Nervik  Match Report    NaN  \n",
       " 3             Emilie Dokset  Match Report    NaN  \n",
       " 4           Ingvild Aarland  Match Report    NaN  \n",
       " ..                      ...           ...    ...  \n",
       " 155              Marte Sørø  Match Report    NaN  \n",
       " 156  Sarah Fatemeh Zangeneh  Match Report    NaN  \n",
       " 157           Emilie Dokset  Match Report    NaN  \n",
       " 158           Marit Folstad  Match Report    NaN  \n",
       " 159     Tove Marie Tandstad  Match Report    NaN  \n",
       " \n",
       " [160 rows x 12 columns]]"
      ]
     },
     "execution_count": 5,
     "metadata": {},
     "output_type": "execute_result"
    }
   ],
   "source": [
    "import pandas as pd\n",
    "pd.read_html('C:\\\\Users\\\\Tobias Soltvedt\\\\Desktop\\\\Programering\\\\INF161\\\\prosjekt\\\\2017\\\\games.xls', encoding=\"UTF-8\")"
   ]
  },
  {
   "cell_type": "code",
   "execution_count": null,
   "id": "a2077323",
   "metadata": {},
   "outputs": [],
   "source": []
  }
 ],
 "metadata": {
  "kernelspec": {
   "display_name": "Python 3",
   "language": "python",
   "name": "python3"
  },
  "language_info": {
   "codemirror_mode": {
    "name": "ipython",
    "version": 3
   },
   "file_extension": ".py",
   "mimetype": "text/x-python",
   "name": "python",
   "nbconvert_exporter": "python",
   "pygments_lexer": "ipython3",
   "version": "3.8.8"
  }
 },
 "nbformat": 4,
 "nbformat_minor": 5
}
