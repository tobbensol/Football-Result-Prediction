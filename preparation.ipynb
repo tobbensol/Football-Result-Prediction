{
 "cells": [
  {
   "cell_type": "markdown",
   "id": "c19b741a",
   "metadata": {},
   "source": [
    "#### Kriteriet er kopla til eit læringsmålData ready to use\n",
    "(a) The final data is such that each row in the data corresponds to exactly 1 score that should be predicted.<br>\n",
    "(b) The data does not leak any information (using player statistics of a given year to predict a score that happened in the same year).<br>\n",
    "(c) The features in the final data are reasonable<br>\n",
    "\n",
    "#### Kriteriet er kopla til eit læringsmålData description\n",
    "(a) The different raw datasets as well as the combined datasets are described appropriately. <br>\n",
    "(b) Some basic visualizations of the data that allows us to understand basic properties are available and explained.\n",
    "\n",
    "#### Kriteriet er kopla til eit læringsmålReport\n",
    "(a) The report is clear, well-written and understandable. <br>\n",
    "(b) The code is readable and documented.<br>\n",
    "\n",
    "### imports\n",
    "imports all the models and libraries that i use aswell as the data that i use"
   ]
  },
  {
   "cell_type": "code",
   "execution_count": 1,
   "id": "61d37aeb",
   "metadata": {
    "scrolled": false
   },
   "outputs": [],
   "source": [
    "# import pandas\n",
    "import pandas as pd\n",
    "\n",
    "# import files as dataframes, when you import from html you get a list of dataframes, so i need the [0]th element as there is only one element\n",
    "games2017 = pd.read_html('prosjekt\\\\2017\\\\games.xls', encoding=\"UTF-8\")[0]\n",
    "games2018 = pd.read_html('prosjekt\\\\2018\\\\games.xls', encoding=\"UTF-8\")[0]\n",
    "games2019 = pd.read_html('prosjekt\\\\2019\\\\games.xls', encoding=\"UTF-8\")[0]\n",
    "\n",
    "#combines all the dataframes into one big one\n",
    "raw_data = games2017.append(games2018).append(games2019)"
   ]
  },
  {
   "cell_type": "markdown",
   "id": "a8f7845d",
   "metadata": {},
   "source": [
    "#### cleaning the data\n",
    "the first thing we need to do is to clean the data and make sure that it is usable<br>\n",
    "i have to split the score into 2 different collumns and then remove NaN values from Score, Home and away because the data is useless when you dont know what the data is about"
   ]
  },
  {
   "cell_type": "code",
   "execution_count": 2,
   "id": "a2077323",
   "metadata": {
    "scrolled": false
   },
   "outputs": [
    {
     "data": {
      "text/html": [
       "<div>\n",
       "<style scoped>\n",
       "    .dataframe tbody tr th:only-of-type {\n",
       "        vertical-align: middle;\n",
       "    }\n",
       "\n",
       "    .dataframe tbody tr th {\n",
       "        vertical-align: top;\n",
       "    }\n",
       "\n",
       "    .dataframe thead th {\n",
       "        text-align: right;\n",
       "    }\n",
       "</style>\n",
       "<table border=\"1\" class=\"dataframe\">\n",
       "  <thead>\n",
       "    <tr style=\"text-align: right;\">\n",
       "      <th></th>\n",
       "      <th>Date</th>\n",
       "      <th>Home</th>\n",
       "      <th>Home score</th>\n",
       "      <th>Away score</th>\n",
       "      <th>Away</th>\n",
       "    </tr>\n",
       "  </thead>\n",
       "  <tbody>\n",
       "    <tr>\n",
       "      <th>0</th>\n",
       "      <td>2017-04-17</td>\n",
       "      <td>Medkila</td>\n",
       "      <td>1</td>\n",
       "      <td>1</td>\n",
       "      <td>Sandviken</td>\n",
       "    </tr>\n",
       "    <tr>\n",
       "      <th>1</th>\n",
       "      <td>2017-04-17</td>\n",
       "      <td>Avaldsnes</td>\n",
       "      <td>2</td>\n",
       "      <td>1</td>\n",
       "      <td>Vålerenga</td>\n",
       "    </tr>\n",
       "    <tr>\n",
       "      <th>2</th>\n",
       "      <td>2017-04-17</td>\n",
       "      <td>Grand Bodø</td>\n",
       "      <td>2</td>\n",
       "      <td>2</td>\n",
       "      <td>Arna-Bjørnar</td>\n",
       "    </tr>\n",
       "    <tr>\n",
       "      <th>3</th>\n",
       "      <td>2017-04-17</td>\n",
       "      <td>Røa</td>\n",
       "      <td>1</td>\n",
       "      <td>2</td>\n",
       "      <td>Stabæk</td>\n",
       "    </tr>\n",
       "    <tr>\n",
       "      <th>4</th>\n",
       "      <td>2017-04-17</td>\n",
       "      <td>LSK Kvinner</td>\n",
       "      <td>6</td>\n",
       "      <td>1</td>\n",
       "      <td>Klepp</td>\n",
       "    </tr>\n",
       "    <tr>\n",
       "      <th>...</th>\n",
       "      <td>...</td>\n",
       "      <td>...</td>\n",
       "      <td>...</td>\n",
       "      <td>...</td>\n",
       "      <td>...</td>\n",
       "    </tr>\n",
       "    <tr>\n",
       "      <th>393</th>\n",
       "      <td>2019-11-16</td>\n",
       "      <td>Kolbotn</td>\n",
       "      <td>0</td>\n",
       "      <td>0</td>\n",
       "      <td>Lyn</td>\n",
       "    </tr>\n",
       "    <tr>\n",
       "      <th>394</th>\n",
       "      <td>2019-11-16</td>\n",
       "      <td>Arna-Bjørnar</td>\n",
       "      <td>0</td>\n",
       "      <td>2</td>\n",
       "      <td>Vålerenga</td>\n",
       "    </tr>\n",
       "    <tr>\n",
       "      <th>395</th>\n",
       "      <td>2019-11-16</td>\n",
       "      <td>Fart</td>\n",
       "      <td>1</td>\n",
       "      <td>6</td>\n",
       "      <td>Klepp</td>\n",
       "    </tr>\n",
       "    <tr>\n",
       "      <th>396</th>\n",
       "      <td>2019-11-24</td>\n",
       "      <td>IF Fløya</td>\n",
       "      <td>0</td>\n",
       "      <td>5</td>\n",
       "      <td>Lyn</td>\n",
       "    </tr>\n",
       "    <tr>\n",
       "      <th>397</th>\n",
       "      <td>2019-12-01</td>\n",
       "      <td>Lyn</td>\n",
       "      <td>2</td>\n",
       "      <td>1</td>\n",
       "      <td>IF Fløya</td>\n",
       "    </tr>\n",
       "  </tbody>\n",
       "</table>\n",
       "<p>398 rows × 5 columns</p>\n",
       "</div>"
      ],
      "text/plain": [
       "           Date          Home  Home score  Away score          Away\n",
       "0    2017-04-17       Medkila           1           1     Sandviken\n",
       "1    2017-04-17     Avaldsnes           2           1     Vålerenga\n",
       "2    2017-04-17    Grand Bodø           2           2  Arna-Bjørnar\n",
       "3    2017-04-17           Røa           1           2        Stabæk\n",
       "4    2017-04-17   LSK Kvinner           6           1         Klepp\n",
       "..          ...           ...         ...         ...           ...\n",
       "393  2019-11-16       Kolbotn           0           0           Lyn\n",
       "394  2019-11-16  Arna-Bjørnar           0           2     Vålerenga\n",
       "395  2019-11-16          Fart           1           6         Klepp\n",
       "396  2019-11-24      IF Fløya           0           5           Lyn\n",
       "397  2019-12-01           Lyn           2           1      IF Fløya\n",
       "\n",
       "[398 rows x 5 columns]"
      ]
     },
     "execution_count": 2,
     "metadata": {},
     "output_type": "execute_result"
    }
   ],
   "source": [
    "raw_data = raw_data.dropna(subset = [\"Score\", \"Home\", \"Away\"])\n",
    "raw_data[\"Home score\"] = raw_data[\"Score\"].str[0:1].astype(\"int\")\n",
    "raw_data[\"Away score\"] = raw_data[\"Score\"].str[2:3].astype(\"int\")\n",
    "raw_data = raw_data.loc[:,[\"Date\", \"Home\", \"Home score\", \"Away score\", \"Away\"]].reset_index(drop = True)\n",
    "\n",
    "raw_data"
   ]
  },
  {
   "cell_type": "markdown",
   "id": "7b86f194",
   "metadata": {},
   "source": [
    "#### Formating the data\n",
    "we have cleaned the data set in such a way that it only contains the values we intend to use. We can start making a new dataset with the same format as the input data. \n",
    "having propperly formated data also helps with visualization of the data.\n",
    "because we want the same format as the input data we are going to need the collumns<br>\n",
    "<ul>\n",
    "    <li> ID to have a way to identify games </li>\n",
    "    <li> Date to make sure we dont use games that happened in the future to predict games </li>\n",
    "    <li> Season so we can add features from previous seasons </li>\n",
    "    <li> Team so we can see who is playing </li>\n",
    "    <li> Opponent so we can see who they are playing against </li>\n",
    "    <li> Venue so we can see what team is at home and which is away</li>\n",
    "</ul>\n",
    "i am also adding 2 collumns which i am going to use for visualization and to teach the machine learning model, those collumns being:<br>\n",
    "<ul>\n",
    "    <li> Goals to teach the model to predict goals and to see if various aspects of the game affects the amount of goals in the visualization part of the task</li>\n",
    "    <li> Winner is quite simmilar to the amount of goals but i intend to remove this feature before saving the dataframe as it cant be used in the prediction </li>\n",
    "</ul>\n",
    "when the data is formated like this we only get the score of one team, the one in the \"team\" collumn, so we are going to have to split each game into 2 rows which share the same id so that we can how many goals the teams score against the other \n",
    "   "
   ]
  },
  {
   "cell_type": "code",
   "execution_count": 3,
   "id": "256dc8b6",
   "metadata": {},
   "outputs": [
    {
     "data": {
      "text/html": [
       "<div>\n",
       "<style scoped>\n",
       "    .dataframe tbody tr th:only-of-type {\n",
       "        vertical-align: middle;\n",
       "    }\n",
       "\n",
       "    .dataframe tbody tr th {\n",
       "        vertical-align: top;\n",
       "    }\n",
       "\n",
       "    .dataframe thead th {\n",
       "        text-align: right;\n",
       "    }\n",
       "</style>\n",
       "<table border=\"1\" class=\"dataframe\">\n",
       "  <thead>\n",
       "    <tr style=\"text-align: right;\">\n",
       "      <th></th>\n",
       "      <th>ID</th>\n",
       "      <th>Date</th>\n",
       "      <th>Season</th>\n",
       "      <th>Team</th>\n",
       "      <th>Opponent</th>\n",
       "      <th>Venue</th>\n",
       "      <th>Goals</th>\n",
       "      <th>Winner</th>\n",
       "    </tr>\n",
       "  </thead>\n",
       "  <tbody>\n",
       "    <tr>\n",
       "      <th>0</th>\n",
       "      <td>0</td>\n",
       "      <td>2017-04-17</td>\n",
       "      <td>2017</td>\n",
       "      <td>Medkila</td>\n",
       "      <td>Sandviken</td>\n",
       "      <td>Home</td>\n",
       "      <td>1</td>\n",
       "      <td>Draw</td>\n",
       "    </tr>\n",
       "    <tr>\n",
       "      <th>1</th>\n",
       "      <td>0</td>\n",
       "      <td>2017-04-17</td>\n",
       "      <td>2017</td>\n",
       "      <td>Sandviken</td>\n",
       "      <td>Medkila</td>\n",
       "      <td>Away</td>\n",
       "      <td>1</td>\n",
       "      <td>Draw</td>\n",
       "    </tr>\n",
       "    <tr>\n",
       "      <th>2</th>\n",
       "      <td>1</td>\n",
       "      <td>2017-04-17</td>\n",
       "      <td>2017</td>\n",
       "      <td>Avaldsnes</td>\n",
       "      <td>Vålerenga</td>\n",
       "      <td>Home</td>\n",
       "      <td>2</td>\n",
       "      <td>Home</td>\n",
       "    </tr>\n",
       "    <tr>\n",
       "      <th>3</th>\n",
       "      <td>1</td>\n",
       "      <td>2017-04-17</td>\n",
       "      <td>2017</td>\n",
       "      <td>Vålerenga</td>\n",
       "      <td>Avaldsnes</td>\n",
       "      <td>Away</td>\n",
       "      <td>1</td>\n",
       "      <td>Home</td>\n",
       "    </tr>\n",
       "    <tr>\n",
       "      <th>4</th>\n",
       "      <td>2</td>\n",
       "      <td>2017-04-17</td>\n",
       "      <td>2017</td>\n",
       "      <td>Grand Bodø</td>\n",
       "      <td>Arna-Bjørnar</td>\n",
       "      <td>Home</td>\n",
       "      <td>2</td>\n",
       "      <td>Draw</td>\n",
       "    </tr>\n",
       "    <tr>\n",
       "      <th>...</th>\n",
       "      <td>...</td>\n",
       "      <td>...</td>\n",
       "      <td>...</td>\n",
       "      <td>...</td>\n",
       "      <td>...</td>\n",
       "      <td>...</td>\n",
       "      <td>...</td>\n",
       "      <td>...</td>\n",
       "    </tr>\n",
       "    <tr>\n",
       "      <th>791</th>\n",
       "      <td>395</td>\n",
       "      <td>2019-11-16</td>\n",
       "      <td>2019</td>\n",
       "      <td>Klepp</td>\n",
       "      <td>Fart</td>\n",
       "      <td>Away</td>\n",
       "      <td>6</td>\n",
       "      <td>Away</td>\n",
       "    </tr>\n",
       "    <tr>\n",
       "      <th>792</th>\n",
       "      <td>396</td>\n",
       "      <td>2019-11-24</td>\n",
       "      <td>2019</td>\n",
       "      <td>IF Fløya</td>\n",
       "      <td>Lyn</td>\n",
       "      <td>Home</td>\n",
       "      <td>0</td>\n",
       "      <td>Away</td>\n",
       "    </tr>\n",
       "    <tr>\n",
       "      <th>793</th>\n",
       "      <td>396</td>\n",
       "      <td>2019-11-24</td>\n",
       "      <td>2019</td>\n",
       "      <td>Lyn</td>\n",
       "      <td>IF Fløya</td>\n",
       "      <td>Away</td>\n",
       "      <td>5</td>\n",
       "      <td>Away</td>\n",
       "    </tr>\n",
       "    <tr>\n",
       "      <th>794</th>\n",
       "      <td>397</td>\n",
       "      <td>2019-12-01</td>\n",
       "      <td>2019</td>\n",
       "      <td>Lyn</td>\n",
       "      <td>IF Fløya</td>\n",
       "      <td>Home</td>\n",
       "      <td>2</td>\n",
       "      <td>Home</td>\n",
       "    </tr>\n",
       "    <tr>\n",
       "      <th>795</th>\n",
       "      <td>397</td>\n",
       "      <td>2019-12-01</td>\n",
       "      <td>2019</td>\n",
       "      <td>IF Fløya</td>\n",
       "      <td>Lyn</td>\n",
       "      <td>Away</td>\n",
       "      <td>1</td>\n",
       "      <td>Home</td>\n",
       "    </tr>\n",
       "  </tbody>\n",
       "</table>\n",
       "<p>796 rows × 8 columns</p>\n",
       "</div>"
      ],
      "text/plain": [
       "      ID        Date Season        Team      Opponent Venue Goals Winner\n",
       "0      0  2017-04-17   2017     Medkila     Sandviken  Home     1   Draw\n",
       "1      0  2017-04-17   2017   Sandviken       Medkila  Away     1   Draw\n",
       "2      1  2017-04-17   2017   Avaldsnes     Vålerenga  Home     2   Home\n",
       "3      1  2017-04-17   2017   Vålerenga     Avaldsnes  Away     1   Home\n",
       "4      2  2017-04-17   2017  Grand Bodø  Arna-Bjørnar  Home     2   Draw\n",
       "..   ...         ...    ...         ...           ...   ...   ...    ...\n",
       "791  395  2019-11-16   2019       Klepp          Fart  Away     6   Away\n",
       "792  396  2019-11-24   2019    IF Fløya           Lyn  Home     0   Away\n",
       "793  396  2019-11-24   2019         Lyn      IF Fløya  Away     5   Away\n",
       "794  397  2019-12-01   2019         Lyn      IF Fløya  Home     2   Home\n",
       "795  397  2019-12-01   2019    IF Fløya           Lyn  Away     1   Home\n",
       "\n",
       "[796 rows x 8 columns]"
      ]
     },
     "execution_count": 3,
     "metadata": {},
     "output_type": "execute_result"
    }
   ],
   "source": [
    "clean_data = pd.DataFrame(columns=[\"ID\",\"Date\",\"Season\",\"Team\",\"Opponent\",\"Venue\", \"Goals\", \"Winner\"])\n",
    "\n",
    "#this dict is to translate values from the raw data into the dataframe that has the same format as the input data\n",
    "\n",
    "# my intention is to splitt the rows into 2, so that it says that \n",
    "# \"x team played against y team at Home\" and then \"y team played agains x team Away\"\n",
    "\n",
    "for index, row in raw_data.iterrows():\n",
    "        #finds out what the outcome of the match was \n",
    "    if(row[\"Away score\"] > row[\"Home score\"]):\n",
    "        result = \"Away\"\n",
    "    elif (row[\"Away score\"] < row[\"Home score\"]):\n",
    "        result = \"Home\"\n",
    "    else:\n",
    "        result = \"Draw\"\n",
    "    \n",
    "    #this dict is to translate values from the raw data into the dataframe that has the same format as the input data\n",
    "    home_dict = {\n",
    "        \"ID\" : index,\n",
    "        \"Date\" : row[\"Date\"],\n",
    "        \"Season\" : int(row[\"Date\"][:4]),\n",
    "        \"Team\" : row[\"Home\"],\n",
    "        \"Opponent\" : row[\"Away\"],\n",
    "        \"Venue\" : \"Home\",\n",
    "        \"Goals\" : row[\"Home score\"],\n",
    "        \"Winner\" : result\n",
    "     }\n",
    "\n",
    "    away_dict = {\n",
    "        \"ID\" : index,\n",
    "        \"Date\" : row[\"Date\"],\n",
    "        \"Season\" : int(row[\"Date\"][:4]),\n",
    "        \"Team\" : row[\"Away\"],\n",
    "        \"Opponent\" : row[\"Home\"],\n",
    "        \"Venue\" : \"Away\",\n",
    "        \"Goals\" : row[\"Away score\"],\n",
    "        \"Winner\" : result\n",
    "\n",
    "    }\n",
    "    \n",
    "    #adds home vs away, then away vs home\n",
    "    clean_data = clean_data.append(home_dict, ignore_index = True)\n",
    "    clean_data = clean_data.append(away_dict, ignore_index = True)\n",
    "    \n",
    "clean_data\n",
    "\n",
    "#this is the clean dataframe that we can use from now on out"
   ]
  },
  {
   "cell_type": "markdown",
   "id": "f374b232",
   "metadata": {},
   "source": [
    "#### visualization\n",
    "visualization can help quite a bit to find what factors to look upon when we want to make the machine learning model. when you visualize you have to find some factors that might be relevant to what you are working on. Some examples of factors that might affect how well a team plays is wether the team is playing at home or away and the average age of the people playing on the team. in this section i intend to look into some data that could be interesting to look at<br><br>\n",
    "the first thing i am interested to look at is how the location of the game affects the outcome of the game."
   ]
  },
  {
   "cell_type": "code",
   "execution_count": 4,
   "id": "e41590db",
   "metadata": {
    "scrolled": false
   },
   "outputs": [
    {
     "data": {
      "text/html": [
       "<div>\n",
       "<style scoped>\n",
       "    .dataframe tbody tr th:only-of-type {\n",
       "        vertical-align: middle;\n",
       "    }\n",
       "\n",
       "    .dataframe tbody tr th {\n",
       "        vertical-align: top;\n",
       "    }\n",
       "\n",
       "    .dataframe thead th {\n",
       "        text-align: right;\n",
       "    }\n",
       "</style>\n",
       "<table border=\"1\" class=\"dataframe\">\n",
       "  <thead>\n",
       "    <tr style=\"text-align: right;\">\n",
       "      <th>Year</th>\n",
       "      <th>2017</th>\n",
       "      <th>2018</th>\n",
       "      <th>2019</th>\n",
       "    </tr>\n",
       "    <tr>\n",
       "      <th>Result</th>\n",
       "      <th></th>\n",
       "      <th></th>\n",
       "      <th></th>\n",
       "    </tr>\n",
       "  </thead>\n",
       "  <tbody>\n",
       "    <tr>\n",
       "      <th>Away</th>\n",
       "      <td>96</td>\n",
       "      <td>92</td>\n",
       "      <td>96</td>\n",
       "    </tr>\n",
       "    <tr>\n",
       "      <th>Draw</th>\n",
       "      <td>48</td>\n",
       "      <td>46</td>\n",
       "      <td>62</td>\n",
       "    </tr>\n",
       "    <tr>\n",
       "      <th>Home</th>\n",
       "      <td>120</td>\n",
       "      <td>126</td>\n",
       "      <td>110</td>\n",
       "    </tr>\n",
       "  </tbody>\n",
       "</table>\n",
       "</div>"
      ],
      "text/plain": [
       "Year    2017  2018  2019\n",
       "Result                  \n",
       "Away      96    92    96\n",
       "Draw      48    46    62\n",
       "Home     120   126   110"
      ]
     },
     "execution_count": 4,
     "metadata": {},
     "output_type": "execute_result"
    },
    {
     "data": {
      "image/png": "[encoded data removed]",
      "text/plain": [
       "<Figure size 432x288 with 1 Axes>"
      ]
     },
     "metadata": {
      "needs_background": "light"
     },
     "output_type": "display_data"
    }
   ],
   "source": [
    "y2017 = clean_data.loc[clean_data[\"Season\"] == 2017]\n",
    "y2018 = clean_data.loc[clean_data[\"Season\"] == 2018]\n",
    "y2019 = clean_data.loc[clean_data[\"Season\"] == 2019]\n",
    "\n",
    "#making a new df that has the amount of home, away and draws as rows and the year as columns\n",
    "df = y2017.groupby([\"Winner\"])[[\"Venue\"]].count()\n",
    "df[\"2018\"] = y2018.groupby([\"Winner\"])[[\"Venue\"]].count()\n",
    "df[\"2019\"] = y2019.groupby([\"Winner\"])[[\"Venue\"]].count()\n",
    "df = df.rename({'Venue': '2017'}, axis=1)\n",
    "df = df.rename_axis(\"Result\", axis=\"rows\")\n",
    "df = df.rename_axis(\"Year\", axis=\"columns\")\n",
    "\n",
    "# makes the plot\n",
    "fig = df.plot(ylabel = \"Games #\", kind = \"bar\", title = \"Number of draws, home and away victories per year\")\n",
    "fig\n",
    "df"
   ]
  },
  {
   "cell_type": "markdown",
   "id": "7b667895",
   "metadata": {},
   "source": [
    "from this graph we can see that the home team wins more often on average than the away team. this is also quite consistent between years, the greatest differance is between 2018 and 2019 where there were quite a few more draws and less home wins but there is still a conciderable differance between the amount of home wins than away wins. this makes me think that there is more to look into when it comes to the location of the match.\n",
    "<br><br>\n",
    "i proceed to look at how the amount of goals are affected hy the venue"
   ]
  },
  {
   "cell_type": "code",
   "execution_count": 5,
   "id": "242d5f1c",
   "metadata": {},
   "outputs": [
    {
     "data": {
      "text/html": [
       "<div>\n",
       "<style scoped>\n",
       "    .dataframe tbody tr th:only-of-type {\n",
       "        vertical-align: middle;\n",
       "    }\n",
       "\n",
       "    .dataframe tbody tr th {\n",
       "        vertical-align: top;\n",
       "    }\n",
       "\n",
       "    .dataframe thead th {\n",
       "        text-align: right;\n",
       "    }\n",
       "</style>\n",
       "<table border=\"1\" class=\"dataframe\">\n",
       "  <thead>\n",
       "    <tr style=\"text-align: right;\">\n",
       "      <th>Year</th>\n",
       "      <th>2017</th>\n",
       "      <th>2018</th>\n",
       "      <th>2019</th>\n",
       "    </tr>\n",
       "    <tr>\n",
       "      <th>Venue</th>\n",
       "      <th></th>\n",
       "      <th></th>\n",
       "      <th></th>\n",
       "    </tr>\n",
       "  </thead>\n",
       "  <tbody>\n",
       "    <tr>\n",
       "      <th>Away</th>\n",
       "      <td>190</td>\n",
       "      <td>191</td>\n",
       "      <td>188</td>\n",
       "    </tr>\n",
       "    <tr>\n",
       "      <th>Home</th>\n",
       "      <td>243</td>\n",
       "      <td>252</td>\n",
       "      <td>223</td>\n",
       "    </tr>\n",
       "  </tbody>\n",
       "</table>\n",
       "</div>"
      ],
      "text/plain": [
       "Year   2017  2018  2019\n",
       "Venue                  \n",
       "Away    190   191   188\n",
       "Home    243   252   223"
      ]
     },
     "execution_count": 5,
     "metadata": {},
     "output_type": "execute_result"
    },
    {
     "data": {
      "image/png": "[encoded data removed]",
      "text/plain": [
       "<Figure size 432x288 with 1 Axes>"
      ]
     },
     "metadata": {
      "needs_background": "light"
     },
     "output_type": "display_data"
    }
   ],
   "source": [
    "# this is the same that i did on the previous code box, but focusing on the amount of goals instead of the amount of victories\n",
    "df = y2017.groupby([\"Venue\"])[[\"Goals\"]].sum()\n",
    "df[\"2018\"] = y2018.groupby([\"Venue\"])[[\"Goals\"]].sum()\n",
    "df[\"2019\"] = y2019.groupby([\"Venue\"])[[\"Goals\"]].sum()\n",
    "\n",
    "# renames axies and columns to make the DF and plot readable\n",
    "df = df.rename({'Goals': '2017'}, axis=1)\n",
    "df = df.rename_axis(\"Year\", axis=\"columns\")\n",
    "\n",
    "fig = df.plot(ylabel = \"# Goals\", kind = \"bar\", title = \"Number of goals by venue per year\")\n",
    "fig\n",
    "df"
   ]
  },
  {
   "cell_type": "markdown",
   "id": "abde0aee",
   "metadata": {},
   "source": [
    "as you can see the average amount of goals away is lower than the amount of goals at home. this result is consistent with what the last graph showed, so the team playing at home is likely to have an advantage over the team playing away meaning that we could most likely use this to predict the outcome of the match<br><br>\n",
    "\n",
    "i want to use table.xls and team-stats.xls to to visualize how data affects the result"
   ]
  },
  {
   "cell_type": "code",
   "execution_count": 6,
   "id": "458af549",
   "metadata": {
    "scrolled": false
   },
   "outputs": [
    {
     "name": "stderr",
     "output_type": "stream",
     "text": [
      "<ipython-input-6-6faf6655c472>:11: SettingWithCopyWarning: \n",
      "A value is trying to be set on a copy of a slice from a DataFrame.\n",
      "Try using .loc[row_indexer,col_indexer] = value instead\n",
      "\n",
      "See the caveats in the documentation: https://pandas.pydata.org/pandas-docs/stable/user_guide/indexing.html#returning-a-view-versus-a-copy\n",
      "  position2017[\"win_rate\"] = position2017[\"W\"]/position2017[\"MP\"]\n",
      "<ipython-input-6-6faf6655c472>:12: SettingWithCopyWarning: \n",
      "A value is trying to be set on a copy of a slice from a DataFrame.\n",
      "Try using .loc[row_indexer,col_indexer] = value instead\n",
      "\n",
      "See the caveats in the documentation: https://pandas.pydata.org/pandas-docs/stable/user_guide/indexing.html#returning-a-view-versus-a-copy\n",
      "  position2018[\"win_rate\"] = position2018[\"W\"]/position2018[\"MP\"]\n",
      "<ipython-input-6-6faf6655c472>:13: SettingWithCopyWarning: \n",
      "A value is trying to be set on a copy of a slice from a DataFrame.\n",
      "Try using .loc[row_indexer,col_indexer] = value instead\n",
      "\n",
      "See the caveats in the documentation: https://pandas.pydata.org/pandas-docs/stable/user_guide/indexing.html#returning-a-view-versus-a-copy\n",
      "  position2019[\"win_rate\"] = position2019[\"W\"]/position2019[\"MP\"]\n"
     ]
    },
    {
     "data": {
      "text/html": [
       "<div>\n",
       "<style scoped>\n",
       "    .dataframe tbody tr th:only-of-type {\n",
       "        vertical-align: middle;\n",
       "    }\n",
       "\n",
       "    .dataframe tbody tr th {\n",
       "        vertical-align: top;\n",
       "    }\n",
       "\n",
       "    .dataframe thead th {\n",
       "        text-align: right;\n",
       "    }\n",
       "</style>\n",
       "<table border=\"1\" class=\"dataframe\">\n",
       "  <thead>\n",
       "    <tr style=\"text-align: right;\">\n",
       "      <th></th>\n",
       "      <th>Rk</th>\n",
       "      <th>Squad</th>\n",
       "      <th>W</th>\n",
       "      <th>D</th>\n",
       "      <th>L</th>\n",
       "      <th>GD</th>\n",
       "      <th>Pts</th>\n",
       "      <th>GF</th>\n",
       "      <th>MP</th>\n",
       "      <th>win_rate</th>\n",
       "    </tr>\n",
       "  </thead>\n",
       "  <tbody>\n",
       "    <tr>\n",
       "      <th>0</th>\n",
       "      <td>1</td>\n",
       "      <td>LSK Kvinner</td>\n",
       "      <td>19</td>\n",
       "      <td>2</td>\n",
       "      <td>1</td>\n",
       "      <td>50</td>\n",
       "      <td>59</td>\n",
       "      <td>68</td>\n",
       "      <td>22</td>\n",
       "      <td>0.863636</td>\n",
       "    </tr>\n",
       "    <tr>\n",
       "      <th>1</th>\n",
       "      <td>2</td>\n",
       "      <td>Avaldsnes</td>\n",
       "      <td>15</td>\n",
       "      <td>3</td>\n",
       "      <td>4</td>\n",
       "      <td>34</td>\n",
       "      <td>48</td>\n",
       "      <td>51</td>\n",
       "      <td>22</td>\n",
       "      <td>0.681818</td>\n",
       "    </tr>\n",
       "    <tr>\n",
       "      <th>2</th>\n",
       "      <td>3</td>\n",
       "      <td>Stabæk</td>\n",
       "      <td>13</td>\n",
       "      <td>4</td>\n",
       "      <td>5</td>\n",
       "      <td>23</td>\n",
       "      <td>43</td>\n",
       "      <td>46</td>\n",
       "      <td>22</td>\n",
       "      <td>0.590909</td>\n",
       "    </tr>\n",
       "    <tr>\n",
       "      <th>3</th>\n",
       "      <td>4</td>\n",
       "      <td>Klepp</td>\n",
       "      <td>12</td>\n",
       "      <td>4</td>\n",
       "      <td>6</td>\n",
       "      <td>10</td>\n",
       "      <td>40</td>\n",
       "      <td>34</td>\n",
       "      <td>22</td>\n",
       "      <td>0.545455</td>\n",
       "    </tr>\n",
       "    <tr>\n",
       "      <th>4</th>\n",
       "      <td>5</td>\n",
       "      <td>Røa</td>\n",
       "      <td>11</td>\n",
       "      <td>4</td>\n",
       "      <td>7</td>\n",
       "      <td>14</td>\n",
       "      <td>37</td>\n",
       "      <td>42</td>\n",
       "      <td>22</td>\n",
       "      <td>0.500000</td>\n",
       "    </tr>\n",
       "    <tr>\n",
       "      <th>5</th>\n",
       "      <td>6</td>\n",
       "      <td>Arna-Bjørnar</td>\n",
       "      <td>9</td>\n",
       "      <td>8</td>\n",
       "      <td>5</td>\n",
       "      <td>11</td>\n",
       "      <td>35</td>\n",
       "      <td>39</td>\n",
       "      <td>22</td>\n",
       "      <td>0.409091</td>\n",
       "    </tr>\n",
       "    <tr>\n",
       "      <th>6</th>\n",
       "      <td>7</td>\n",
       "      <td>Vålerenga</td>\n",
       "      <td>10</td>\n",
       "      <td>4</td>\n",
       "      <td>8</td>\n",
       "      <td>5</td>\n",
       "      <td>34</td>\n",
       "      <td>38</td>\n",
       "      <td>22</td>\n",
       "      <td>0.454545</td>\n",
       "    </tr>\n",
       "    <tr>\n",
       "      <th>7</th>\n",
       "      <td>8</td>\n",
       "      <td>Trondheims-Ørn</td>\n",
       "      <td>8</td>\n",
       "      <td>6</td>\n",
       "      <td>8</td>\n",
       "      <td>0</td>\n",
       "      <td>30</td>\n",
       "      <td>36</td>\n",
       "      <td>22</td>\n",
       "      <td>0.363636</td>\n",
       "    </tr>\n",
       "    <tr>\n",
       "      <th>8</th>\n",
       "      <td>9</td>\n",
       "      <td>Sandviken</td>\n",
       "      <td>4</td>\n",
       "      <td>6</td>\n",
       "      <td>12</td>\n",
       "      <td>-11</td>\n",
       "      <td>18</td>\n",
       "      <td>23</td>\n",
       "      <td>22</td>\n",
       "      <td>0.181818</td>\n",
       "    </tr>\n",
       "    <tr>\n",
       "      <th>9</th>\n",
       "      <td>10</td>\n",
       "      <td>Kolbotn</td>\n",
       "      <td>4</td>\n",
       "      <td>3</td>\n",
       "      <td>15</td>\n",
       "      <td>-26</td>\n",
       "      <td>15</td>\n",
       "      <td>17</td>\n",
       "      <td>22</td>\n",
       "      <td>0.181818</td>\n",
       "    </tr>\n",
       "    <tr>\n",
       "      <th>10</th>\n",
       "      <td>11</td>\n",
       "      <td>Grand Bodø</td>\n",
       "      <td>2</td>\n",
       "      <td>2</td>\n",
       "      <td>18</td>\n",
       "      <td>-50</td>\n",
       "      <td>8</td>\n",
       "      <td>30</td>\n",
       "      <td>22</td>\n",
       "      <td>0.090909</td>\n",
       "    </tr>\n",
       "    <tr>\n",
       "      <th>11</th>\n",
       "      <td>12</td>\n",
       "      <td>Medkila</td>\n",
       "      <td>1</td>\n",
       "      <td>2</td>\n",
       "      <td>19</td>\n",
       "      <td>-60</td>\n",
       "      <td>5</td>\n",
       "      <td>9</td>\n",
       "      <td>22</td>\n",
       "      <td>0.045455</td>\n",
       "    </tr>\n",
       "  </tbody>\n",
       "</table>\n",
       "</div>"
      ],
      "text/plain": [
       "    Rk           Squad   W  D   L  GD  Pts  GF  MP  win_rate\n",
       "0    1     LSK Kvinner  19  2   1  50   59  68  22  0.863636\n",
       "1    2       Avaldsnes  15  3   4  34   48  51  22  0.681818\n",
       "2    3          Stabæk  13  4   5  23   43  46  22  0.590909\n",
       "3    4           Klepp  12  4   6  10   40  34  22  0.545455\n",
       "4    5             Røa  11  4   7  14   37  42  22  0.500000\n",
       "5    6    Arna-Bjørnar   9  8   5  11   35  39  22  0.409091\n",
       "6    7       Vålerenga  10  4   8   5   34  38  22  0.454545\n",
       "7    8  Trondheims-Ørn   8  6   8   0   30  36  22  0.363636\n",
       "8    9       Sandviken   4  6  12 -11   18  23  22  0.181818\n",
       "9   10         Kolbotn   4  3  15 -26   15  17  22  0.181818\n",
       "10  11      Grand Bodø   2  2  18 -50    8  30  22  0.090909\n",
       "11  12         Medkila   1  2  19 -60    5   9  22  0.045455"
      ]
     },
     "execution_count": 6,
     "metadata": {},
     "output_type": "execute_result"
    }
   ],
   "source": [
    "# imports the data from the tables\n",
    "tables2017 = pd.read_html('prosjekt\\\\2017\\\\table.xls', encoding=\"UTF-8\")[0]\n",
    "tables2018 = pd.read_html('prosjekt\\\\2018\\\\table.xls', encoding=\"UTF-8\")[0]\n",
    "tables2019 = pd.read_html('prosjekt\\\\2019\\\\table.xls', encoding=\"UTF-8\")[0]\n",
    "\n",
    "# extracts the relevant data, there are no NaN values, so we dont have to remove them\n",
    "position2017 = tables2017[[\"Rk\", \"Squad\", \"W\", \"D\", \"L\", \"GD\", \"Pts\", \"GF\", \"MP\"]]\n",
    "position2018 = tables2018[[\"Rk\", \"Squad\", \"W\", \"D\", \"L\", \"GD\", \"Pts\", \"GF\", \"MP\"]]\n",
    "position2019 = tables2019[[\"Rk\", \"Squad\", \"W\", \"D\", \"L\", \"GD\", \"Pts\", \"GF\", \"MP\"]]\n",
    "\n",
    "position2017[\"win_rate\"] = position2017[\"W\"]/position2017[\"MP\"]\n",
    "position2018[\"win_rate\"] = position2018[\"W\"]/position2018[\"MP\"]\n",
    "position2019[\"win_rate\"] = position2019[\"W\"]/position2019[\"MP\"]\n",
    "\n",
    "position2017"
   ]
  },
  {
   "cell_type": "code",
   "execution_count": 7,
   "id": "180f7281",
   "metadata": {},
   "outputs": [
    {
     "data": {
      "text/html": [
       "<div>\n",
       "<style scoped>\n",
       "    .dataframe tbody tr th:only-of-type {\n",
       "        vertical-align: middle;\n",
       "    }\n",
       "\n",
       "    .dataframe tbody tr th {\n",
       "        vertical-align: top;\n",
       "    }\n",
       "\n",
       "    .dataframe thead th {\n",
       "        text-align: right;\n",
       "    }\n",
       "</style>\n",
       "<table border=\"1\" class=\"dataframe\">\n",
       "  <thead>\n",
       "    <tr style=\"text-align: right;\">\n",
       "      <th></th>\n",
       "      <th>Squad</th>\n",
       "      <th>Age</th>\n",
       "      <th>G-PK</th>\n",
       "      <th>G-PK</th>\n",
       "    </tr>\n",
       "  </thead>\n",
       "  <tbody>\n",
       "    <tr>\n",
       "      <th>0</th>\n",
       "      <td>Arna-Bjørnar</td>\n",
       "      <td>22.0</td>\n",
       "      <td>36</td>\n",
       "      <td>1.64</td>\n",
       "    </tr>\n",
       "    <tr>\n",
       "      <th>1</th>\n",
       "      <td>Avaldsnes</td>\n",
       "      <td>25.5</td>\n",
       "      <td>48</td>\n",
       "      <td>2.18</td>\n",
       "    </tr>\n",
       "    <tr>\n",
       "      <th>2</th>\n",
       "      <td>Grand Bodø</td>\n",
       "      <td>22.7</td>\n",
       "      <td>29</td>\n",
       "      <td>1.32</td>\n",
       "    </tr>\n",
       "    <tr>\n",
       "      <th>3</th>\n",
       "      <td>Klepp</td>\n",
       "      <td>23.5</td>\n",
       "      <td>31</td>\n",
       "      <td>1.41</td>\n",
       "    </tr>\n",
       "    <tr>\n",
       "      <th>4</th>\n",
       "      <td>Kolbotn</td>\n",
       "      <td>21.9</td>\n",
       "      <td>16</td>\n",
       "      <td>0.73</td>\n",
       "    </tr>\n",
       "    <tr>\n",
       "      <th>5</th>\n",
       "      <td>LSK Kvinner</td>\n",
       "      <td>24.2</td>\n",
       "      <td>65</td>\n",
       "      <td>2.95</td>\n",
       "    </tr>\n",
       "    <tr>\n",
       "      <th>6</th>\n",
       "      <td>Medkila</td>\n",
       "      <td>20.9</td>\n",
       "      <td>9</td>\n",
       "      <td>0.41</td>\n",
       "    </tr>\n",
       "    <tr>\n",
       "      <th>7</th>\n",
       "      <td>Røa</td>\n",
       "      <td>22.8</td>\n",
       "      <td>42</td>\n",
       "      <td>1.91</td>\n",
       "    </tr>\n",
       "    <tr>\n",
       "      <th>8</th>\n",
       "      <td>Sandviken</td>\n",
       "      <td>24.4</td>\n",
       "      <td>23</td>\n",
       "      <td>1.05</td>\n",
       "    </tr>\n",
       "    <tr>\n",
       "      <th>9</th>\n",
       "      <td>Stabæk</td>\n",
       "      <td>25.5</td>\n",
       "      <td>44</td>\n",
       "      <td>2.00</td>\n",
       "    </tr>\n",
       "    <tr>\n",
       "      <th>10</th>\n",
       "      <td>Trondheims-Ørn</td>\n",
       "      <td>22.1</td>\n",
       "      <td>36</td>\n",
       "      <td>1.64</td>\n",
       "    </tr>\n",
       "    <tr>\n",
       "      <th>11</th>\n",
       "      <td>Vålerenga</td>\n",
       "      <td>25.8</td>\n",
       "      <td>38</td>\n",
       "      <td>1.73</td>\n",
       "    </tr>\n",
       "  </tbody>\n",
       "</table>\n",
       "</div>"
      ],
      "text/plain": [
       "             Squad   Age  G-PK  G-PK\n",
       "0     Arna-Bjørnar  22.0    36  1.64\n",
       "1        Avaldsnes  25.5    48  2.18\n",
       "2       Grand Bodø  22.7    29  1.32\n",
       "3            Klepp  23.5    31  1.41\n",
       "4          Kolbotn  21.9    16  0.73\n",
       "5      LSK Kvinner  24.2    65  2.95\n",
       "6          Medkila  20.9     9  0.41\n",
       "7              Røa  22.8    42  1.91\n",
       "8        Sandviken  24.4    23  1.05\n",
       "9           Stabæk  25.5    44  2.00\n",
       "10  Trondheims-Ørn  22.1    36  1.64\n",
       "11       Vålerenga  25.8    38  1.73"
      ]
     },
     "execution_count": 7,
     "metadata": {},
     "output_type": "execute_result"
    }
   ],
   "source": [
    "# imports data\n",
    "teams2017 = pd.read_html('prosjekt\\\\2017\\\\team-stats.xls', encoding=\"UTF-8\")[0]\n",
    "teams2018 = pd.read_html('prosjekt\\\\2018\\\\team-stats.xls', encoding=\"UTF-8\")[0]\n",
    "teams2019 = pd.read_html('prosjekt\\\\2019\\\\team-stats.xls', encoding=\"UTF-8\")[0]\n",
    "\n",
    "# the data has 2 levels which makes it tough to work with, so im dropping a level\n",
    "teams2017.columns = teams2017.columns.droplevel()\n",
    "teams2018.columns = teams2018.columns.droplevel()\n",
    "teams2019.columns = teams2019.columns.droplevel()\n",
    "\n",
    "# extracts the relevant data, there are no NaN values, so we dont have to remove them\n",
    "teams2017 = teams2017[['Squad','Age', \"G-PK\"]]\n",
    "teams2018 = teams2018[['Squad','Age', \"G-PK\"]]\n",
    "teams2019 = teams2019[['Squad','Age', \"G-PK\"]]\n",
    "\n",
    "teams2017"
   ]
  },
  {
   "cell_type": "code",
   "execution_count": 8,
   "id": "a4c2a51a",
   "metadata": {},
   "outputs": [
    {
     "data": {
      "text/html": [
       "<div>\n",
       "<style scoped>\n",
       "    .dataframe tbody tr th:only-of-type {\n",
       "        vertical-align: middle;\n",
       "    }\n",
       "\n",
       "    .dataframe tbody tr th {\n",
       "        vertical-align: top;\n",
       "    }\n",
       "\n",
       "    .dataframe thead th {\n",
       "        text-align: right;\n",
       "    }\n",
       "</style>\n",
       "<table border=\"1\" class=\"dataframe\">\n",
       "  <thead>\n",
       "    <tr style=\"text-align: right;\">\n",
       "      <th></th>\n",
       "      <th>Rk</th>\n",
       "      <th>Team</th>\n",
       "      <th>G-PK</th>\n",
       "      <th>Age</th>\n",
       "      <th>W</th>\n",
       "      <th>D</th>\n",
       "      <th>L</th>\n",
       "      <th>GD</th>\n",
       "      <th>Pts</th>\n",
       "      <th>GF</th>\n",
       "      <th>WR</th>\n",
       "    </tr>\n",
       "  </thead>\n",
       "  <tbody>\n",
       "    <tr>\n",
       "      <th>0</th>\n",
       "      <td>1</td>\n",
       "      <td>LSK Kvinner</td>\n",
       "      <td>65</td>\n",
       "      <td>24.2</td>\n",
       "      <td>19</td>\n",
       "      <td>2</td>\n",
       "      <td>1</td>\n",
       "      <td>50</td>\n",
       "      <td>59</td>\n",
       "      <td>68</td>\n",
       "      <td>0.863636</td>\n",
       "    </tr>\n",
       "    <tr>\n",
       "      <th>1</th>\n",
       "      <td>2</td>\n",
       "      <td>Avaldsnes</td>\n",
       "      <td>48</td>\n",
       "      <td>25.5</td>\n",
       "      <td>15</td>\n",
       "      <td>3</td>\n",
       "      <td>4</td>\n",
       "      <td>34</td>\n",
       "      <td>48</td>\n",
       "      <td>51</td>\n",
       "      <td>0.681818</td>\n",
       "    </tr>\n",
       "    <tr>\n",
       "      <th>2</th>\n",
       "      <td>3</td>\n",
       "      <td>Stabæk</td>\n",
       "      <td>44</td>\n",
       "      <td>25.5</td>\n",
       "      <td>13</td>\n",
       "      <td>4</td>\n",
       "      <td>5</td>\n",
       "      <td>23</td>\n",
       "      <td>43</td>\n",
       "      <td>46</td>\n",
       "      <td>0.590909</td>\n",
       "    </tr>\n",
       "    <tr>\n",
       "      <th>3</th>\n",
       "      <td>4</td>\n",
       "      <td>Klepp</td>\n",
       "      <td>31</td>\n",
       "      <td>23.5</td>\n",
       "      <td>12</td>\n",
       "      <td>4</td>\n",
       "      <td>6</td>\n",
       "      <td>10</td>\n",
       "      <td>40</td>\n",
       "      <td>34</td>\n",
       "      <td>0.545455</td>\n",
       "    </tr>\n",
       "    <tr>\n",
       "      <th>4</th>\n",
       "      <td>5</td>\n",
       "      <td>Røa</td>\n",
       "      <td>42</td>\n",
       "      <td>22.8</td>\n",
       "      <td>11</td>\n",
       "      <td>4</td>\n",
       "      <td>7</td>\n",
       "      <td>14</td>\n",
       "      <td>37</td>\n",
       "      <td>42</td>\n",
       "      <td>0.500000</td>\n",
       "    </tr>\n",
       "    <tr>\n",
       "      <th>5</th>\n",
       "      <td>6</td>\n",
       "      <td>Arna-Bjørnar</td>\n",
       "      <td>36</td>\n",
       "      <td>22.0</td>\n",
       "      <td>9</td>\n",
       "      <td>8</td>\n",
       "      <td>5</td>\n",
       "      <td>11</td>\n",
       "      <td>35</td>\n",
       "      <td>39</td>\n",
       "      <td>0.409091</td>\n",
       "    </tr>\n",
       "    <tr>\n",
       "      <th>6</th>\n",
       "      <td>7</td>\n",
       "      <td>Vålerenga</td>\n",
       "      <td>38</td>\n",
       "      <td>25.8</td>\n",
       "      <td>10</td>\n",
       "      <td>4</td>\n",
       "      <td>8</td>\n",
       "      <td>5</td>\n",
       "      <td>34</td>\n",
       "      <td>38</td>\n",
       "      <td>0.454545</td>\n",
       "    </tr>\n",
       "    <tr>\n",
       "      <th>7</th>\n",
       "      <td>8</td>\n",
       "      <td>Trondheims-Ørn</td>\n",
       "      <td>36</td>\n",
       "      <td>22.1</td>\n",
       "      <td>8</td>\n",
       "      <td>6</td>\n",
       "      <td>8</td>\n",
       "      <td>0</td>\n",
       "      <td>30</td>\n",
       "      <td>36</td>\n",
       "      <td>0.363636</td>\n",
       "    </tr>\n",
       "    <tr>\n",
       "      <th>8</th>\n",
       "      <td>9</td>\n",
       "      <td>Sandviken</td>\n",
       "      <td>23</td>\n",
       "      <td>24.4</td>\n",
       "      <td>4</td>\n",
       "      <td>6</td>\n",
       "      <td>12</td>\n",
       "      <td>-11</td>\n",
       "      <td>18</td>\n",
       "      <td>23</td>\n",
       "      <td>0.181818</td>\n",
       "    </tr>\n",
       "    <tr>\n",
       "      <th>9</th>\n",
       "      <td>10</td>\n",
       "      <td>Kolbotn</td>\n",
       "      <td>16</td>\n",
       "      <td>21.9</td>\n",
       "      <td>4</td>\n",
       "      <td>3</td>\n",
       "      <td>15</td>\n",
       "      <td>-26</td>\n",
       "      <td>15</td>\n",
       "      <td>17</td>\n",
       "      <td>0.181818</td>\n",
       "    </tr>\n",
       "    <tr>\n",
       "      <th>10</th>\n",
       "      <td>11</td>\n",
       "      <td>Grand Bodø</td>\n",
       "      <td>29</td>\n",
       "      <td>22.7</td>\n",
       "      <td>2</td>\n",
       "      <td>2</td>\n",
       "      <td>18</td>\n",
       "      <td>-50</td>\n",
       "      <td>8</td>\n",
       "      <td>30</td>\n",
       "      <td>0.090909</td>\n",
       "    </tr>\n",
       "    <tr>\n",
       "      <th>11</th>\n",
       "      <td>12</td>\n",
       "      <td>Medkila</td>\n",
       "      <td>9</td>\n",
       "      <td>20.9</td>\n",
       "      <td>1</td>\n",
       "      <td>2</td>\n",
       "      <td>19</td>\n",
       "      <td>-60</td>\n",
       "      <td>5</td>\n",
       "      <td>9</td>\n",
       "      <td>0.045455</td>\n",
       "    </tr>\n",
       "  </tbody>\n",
       "</table>\n",
       "</div>"
      ],
      "text/plain": [
       "    Rk            Team  G-PK   Age   W  D   L  GD  Pts  GF        WR\n",
       "0    1     LSK Kvinner    65  24.2  19  2   1  50   59  68  0.863636\n",
       "1    2       Avaldsnes    48  25.5  15  3   4  34   48  51  0.681818\n",
       "2    3          Stabæk    44  25.5  13  4   5  23   43  46  0.590909\n",
       "3    4           Klepp    31  23.5  12  4   6  10   40  34  0.545455\n",
       "4    5             Røa    42  22.8  11  4   7  14   37  42  0.500000\n",
       "5    6    Arna-Bjørnar    36  22.0   9  8   5  11   35  39  0.409091\n",
       "6    7       Vålerenga    38  25.8  10  4   8   5   34  38  0.454545\n",
       "7    8  Trondheims-Ørn    36  22.1   8  6   8   0   30  36  0.363636\n",
       "8    9       Sandviken    23  24.4   4  6  12 -11   18  23  0.181818\n",
       "9   10         Kolbotn    16  21.9   4  3  15 -26   15  17  0.181818\n",
       "10  11      Grand Bodø    29  22.7   2  2  18 -50    8  30  0.090909\n",
       "11  12         Medkila     9  20.9   1  2  19 -60    5   9  0.045455"
      ]
     },
     "execution_count": 8,
     "metadata": {},
     "output_type": "execute_result"
    }
   ],
   "source": [
    "# merges ages and the positions to get the relevant data\n",
    "features2017 = teams2017.merge(position2017, left_on='Squad', right_on=\"Squad\").sort_values(\"Rk\")\n",
    "features2018 = teams2018.merge(position2018, left_on='Squad', right_on=\"Squad\").sort_values(\"Rk\")\n",
    "features2019 = teams2019.merge(position2019, left_on='Squad', right_on=\"Squad\").sort_values(\"Rk\")\n",
    "\n",
    "features2017[[\"Squad\", \"Age\", \"Rk\"]] = features2017[[\"Rk\", \"Squad\", \"Age\"]]\n",
    "features2018[[\"Squad\", \"Age\", \"Rk\"]] = features2018[[\"Rk\", \"Squad\", \"Age\"]]\n",
    "features2019[[\"Squad\", \"Age\", \"Rk\"]] = features2019[[\"Rk\", \"Squad\", \"Age\"]]\n",
    "\n",
    "features2017.columns = [\"Rk\", \"Team\", \"G-PK\", \"G-PK90\", \"Age\", \"W\", \"D\", \"L\", \"GD\", \"Pts\", \"GF\", \"MP\", \"WR\"]\n",
    "features2018.columns = [\"Rk\", \"Team\", \"G-PK\", \"G-PK90\", \"Age\", \"W\", \"D\", \"L\", \"GD\", \"Pts\", \"GF\", \"MP\", \"WR\"]\n",
    "features2019.columns = [\"Rk\", \"Team\", \"G-PK\", \"G-PK90\", \"Age\", \"W\", \"D\", \"L\", \"GD\", \"Pts\", \"GF\", \"MP\", \"WR\"]\n",
    "\n",
    "features2017 = features2017.reset_index(drop = True).drop([\"G-PK90\", \"MP\"], axis = 1)\n",
    "features2018 = features2018.reset_index(drop = True).drop([\"G-PK90\", \"MP\"], axis = 1)\n",
    "features2019 = features2019.reset_index(drop = True).drop([\"G-PK90\", \"MP\"], axis = 1)\n",
    "\n",
    "features2017"
   ]
  },
  {
   "cell_type": "markdown",
   "id": "10e7247b",
   "metadata": {},
   "source": [
    "now that we have imported the features we intend to use, we can proceed with using it to visualize it, the first thing i want to visualize is how the age affects the team rank at the end of the season"
   ]
  },
  {
   "cell_type": "code",
   "execution_count": 9,
   "id": "71b05707",
   "metadata": {
    "scrolled": false
   },
   "outputs": [
    {
     "data": {
      "image/png": "[encoded data removed]",
      "text/plain": [
       "<Figure size 432x288 with 1 Axes>"
      ]
     },
     "metadata": {
      "needs_background": "light"
     },
     "output_type": "display_data"
    },
    {
     "data": {
      "image/png": "[encoded data removed]",
      "text/plain": [
       "<Figure size 432x288 with 1 Axes>"
      ]
     },
     "metadata": {
      "needs_background": "light"
     },
     "output_type": "display_data"
    },
    {
     "data": {
      "image/png": "[encoded data removed]",
      "text/plain": [
       "<Figure size 432x288 with 1 Axes>"
      ]
     },
     "metadata": {
      "needs_background": "light"
     },
     "output_type": "display_data"
    }
   ],
   "source": [
    "# plots the data, added ylim to make the data more readable\n",
    "plt1 = features2017.plot(x=\"Rk\", y=\"Age\", kind = \"bar\", ylim = (19, 27))\n",
    "plt2 = features2018.plot(x=\"Rk\", y=\"Age\", kind = \"bar\", ylim = (19, 27))\n",
    "plt3 = features2019.plot(x=\"Rk\", y=\"Age\", kind = \"bar\", ylim = (19, 27))"
   ]
  },
  {
   "cell_type": "markdown",
   "id": "9d14457b",
   "metadata": {},
   "source": [
    "these graphs show how the ranking of the team and the average age of the team members are related, you can see that the data varies a lot from year to year and that the average age of the ranks varies a lot. it is hard to use this data to predict anything because it is so inconsistent.\n",
    "<br><br>\n",
    "next i am going to look at the ammout of goals in total compared to the goal differance"
   ]
  },
  {
   "cell_type": "code",
   "execution_count": 10,
   "id": "4e80c944",
   "metadata": {},
   "outputs": [
    {
     "data": {
      "image/png": "[encoded data removed]",
      "text/plain": [
       "<Figure size 432x288 with 1 Axes>"
      ]
     },
     "metadata": {
      "needs_background": "light"
     },
     "output_type": "display_data"
    },
    {
     "data": {
      "image/png": "[encoded data removed]",
      "text/plain": [
       "<Figure size 432x288 with 1 Axes>"
      ]
     },
     "metadata": {
      "needs_background": "light"
     },
     "output_type": "display_data"
    },
    {
     "data": {
      "image/png": "[encoded data removed]",
      "text/plain": [
       "<Figure size 432x288 with 1 Axes>"
      ]
     },
     "metadata": {
      "needs_background": "light"
     },
     "output_type": "display_data"
    }
   ],
   "source": [
    "# plots the data\n",
    "plt1 = features2017.plot(x=\"Rk\", y=\"GD\", kind = \"bar\")\n",
    "plt2 = features2018.plot(x=\"Rk\", y=\"GD\", kind = \"bar\")\n",
    "plt3 = features2019.plot(x=\"Rk\", y=\"GD\", kind = \"bar\")"
   ]
  },
  {
   "cell_type": "markdown",
   "id": "5b4770d4",
   "metadata": {},
   "source": [
    "here you can see that the goal difference is related to the position of the team. teams that did badly are those who are scored agains more than the opponent, and teams that did well scored more goals than the opponent.\n",
    "\n",
    "This makes sense, so now we can look at whether it pays to play aggressively and score many goals, or defensively to score few goals since it is theoretically possible to win the entire cup by scoring 1:0 on every game."
   ]
  },
  {
   "cell_type": "code",
   "execution_count": 11,
   "id": "e17aad02",
   "metadata": {},
   "outputs": [
    {
     "data": {
      "image/png": "[encoded data removed]",
      "text/plain": [
       "<Figure size 432x288 with 1 Axes>"
      ]
     },
     "metadata": {
      "needs_background": "light"
     },
     "output_type": "display_data"
    },
    {
     "data": {
      "image/png": "[encoded data removed]",
      "text/plain": [
       "<Figure size 432x288 with 1 Axes>"
      ]
     },
     "metadata": {
      "needs_background": "light"
     },
     "output_type": "display_data"
    },
    {
     "data": {
      "image/png": "[encoded data removed]",
      "text/plain": [
       "<Figure size 432x288 with 1 Axes>"
      ]
     },
     "metadata": {
      "needs_background": "light"
     },
     "output_type": "display_data"
    }
   ],
   "source": [
    "# plots the data\n",
    "plt1 = features2017.plot(x=\"Rk\", y=\"GF\", kind = \"bar\")\n",
    "plt2 = features2018.plot(x=\"Rk\", y=\"GF\", kind = \"bar\")\n",
    "plt3 = features2019.plot(x=\"Rk\", y=\"GF\", kind = \"bar\")"
   ]
  },
  {
   "cell_type": "markdown",
   "id": "d08a7c8c",
   "metadata": {},
   "source": [
    "here you see that it is those who get the most goals who do it best, there are some exceptions, such as 2nd place who score fewer goals on than the 3rd place every year, but in general it is those who score the most who win the cup. I interpret this as meaning that the offensive teams usually do better than the defensive teams.\n",
    "<br><br>\n",
    "I might aswell look at the Non-penalty goals while we are looking at goals"
   ]
  },
  {
   "cell_type": "code",
   "execution_count": 12,
   "id": "7a2171a3",
   "metadata": {},
   "outputs": [
    {
     "data": {
      "image/png": "[encoded data removed]",
      "text/plain": [
       "<Figure size 432x288 with 1 Axes>"
      ]
     },
     "metadata": {
      "needs_background": "light"
     },
     "output_type": "display_data"
    },
    {
     "data": {
      "image/png": "[encoded data removed]",
      "text/plain": [
       "<Figure size 432x288 with 1 Axes>"
      ]
     },
     "metadata": {
      "needs_background": "light"
     },
     "output_type": "display_data"
    },
    {
     "data": {
      "image/png": "[encoded data removed]",
      "text/plain": [
       "<Figure size 432x288 with 1 Axes>"
      ]
     },
     "metadata": {
      "needs_background": "light"
     },
     "output_type": "display_data"
    }
   ],
   "source": [
    "plt1 = features2017.plot(x=\"Rk\", y=\"G-PK\", kind = \"bar\")\n",
    "plt2 = features2018.plot(x=\"Rk\", y=\"G-PK\", kind = \"bar\")\n",
    "plt3 = features2019.plot(x=\"Rk\", y=\"G-PK\", kind = \"bar\")"
   ]
  },
  {
   "cell_type": "markdown",
   "id": "3163ea3a",
   "metadata": {},
   "source": [
    "this graph is pretty much exactly the same as goals, which is expected, but i might aswell include it as a feature since it is consistent with rank.\n",
    "\n",
    "next feature we will take a look at is wins which i am going to predict is going to have a string corolation with the rank"
   ]
  },
  {
   "cell_type": "code",
   "execution_count": 13,
   "id": "fbd5ee05",
   "metadata": {
    "scrolled": false
   },
   "outputs": [
    {
     "data": {
      "image/png": "[encoded data removed]",
      "text/plain": [
       "<Figure size 432x288 with 1 Axes>"
      ]
     },
     "metadata": {
      "needs_background": "light"
     },
     "output_type": "display_data"
    },
    {
     "data": {
      "image/png": "[encoded data removed]",
      "text/plain": [
       "<Figure size 432x288 with 1 Axes>"
      ]
     },
     "metadata": {
      "needs_background": "light"
     },
     "output_type": "display_data"
    },
    {
     "data": {
      "image/png": "[encoded data removed]",
      "text/plain": [
       "<Figure size 432x288 with 1 Axes>"
      ]
     },
     "metadata": {
      "needs_background": "light"
     },
     "output_type": "display_data"
    }
   ],
   "source": [
    "plt1 = features2017.plot(x=\"Rk\", y=\"W\", kind = \"bar\")\n",
    "plt2 = features2018.plot(x=\"Rk\", y=\"W\", kind = \"bar\")\n",
    "plt3 = features2019.plot(x=\"Rk\", y=\"W\", kind = \"bar\")"
   ]
  },
  {
   "cell_type": "markdown",
   "id": "577e7f0d",
   "metadata": {},
   "source": [
    "my assumption about wins and rank being closely related, there are some outliars which i assum is there because they got more draws and less losses than the person with the rank below.\n",
    "\n",
    "next thing i will look at is draws, i am quite unsure if this is going to tell us that much about the result"
   ]
  },
  {
   "cell_type": "code",
   "execution_count": 14,
   "id": "11c631c7",
   "metadata": {},
   "outputs": [
    {
     "data": {
      "image/png": "[encoded data removed]",
      "text/plain": [
       "<Figure size 432x288 with 1 Axes>"
      ]
     },
     "metadata": {
      "needs_background": "light"
     },
     "output_type": "display_data"
    },
    {
     "data": {
      "image/png": "[encoded data removed]",
      "text/plain": [
       "<Figure size 432x288 with 1 Axes>"
      ]
     },
     "metadata": {
      "needs_background": "light"
     },
     "output_type": "display_data"
    },
    {
     "data": {
      "image/png": "[encoded data removed]",
      "text/plain": [
       "<Figure size 432x288 with 1 Axes>"
      ]
     },
     "metadata": {
      "needs_background": "light"
     },
     "output_type": "display_data"
    }
   ],
   "source": [
    "plt1 = features2017.plot(x=\"Rk\", y=\"D\", kind = \"bar\")\n",
    "plt2 = features2018.plot(x=\"Rk\", y=\"D\", kind = \"bar\")\n",
    "plt3 = features2019.plot(x=\"Rk\", y=\"D\", kind = \"bar\")"
   ]
  },
  {
   "cell_type": "markdown",
   "id": "3e8e6e81",
   "metadata": {},
   "source": [
    "this seems very inconsistent, and i am not sure if i am going to keep it as a feature or not, ill see how it affects the results\n",
    "\n",
    "its only logical to check out the losses then, and this should be pretty close to the inverse of wins"
   ]
  },
  {
   "cell_type": "code",
   "execution_count": 15,
   "id": "c36be53e",
   "metadata": {},
   "outputs": [
    {
     "data": {
      "image/png": "[encoded data removed]",
      "text/plain": [
       "<Figure size 432x288 with 1 Axes>"
      ]
     },
     "metadata": {
      "needs_background": "light"
     },
     "output_type": "display_data"
    },
    {
     "data": {
      "image/png": "[encoded data removed]",
      "text/plain": [
       "<Figure size 432x288 with 1 Axes>"
      ]
     },
     "metadata": {
      "needs_background": "light"
     },
     "output_type": "display_data"
    },
    {
     "data": {
      "image/png": "[encoded data removed]",
      "text/plain": [
       "<Figure size 432x288 with 1 Axes>"
      ]
     },
     "metadata": {
      "needs_background": "light"
     },
     "output_type": "display_data"
    }
   ],
   "source": [
    "plt1 = features2017.plot(x=\"Rk\", y=\"L\", kind = \"bar\")\n",
    "plt2 = features2018.plot(x=\"Rk\", y=\"L\", kind = \"bar\")\n",
    "plt3 = features2019.plot(x=\"Rk\", y=\"L\", kind = \"bar\")"
   ]
  },
  {
   "cell_type": "markdown",
   "id": "55cf6e61",
   "metadata": {},
   "source": [
    "my assumptions about losses being close to the inverse of wins seems to be correct, so everything i said about wins applies to losses, but the opposite way\n",
    "<br><br>\n",
    "\n",
    "ill check out the amount of points by rank aswell, this should definitly be linear, but its going to be nice to see how the ranks are divided by points"
   ]
  },
  {
   "cell_type": "code",
   "execution_count": 16,
   "id": "e53ed7b2",
   "metadata": {},
   "outputs": [
    {
     "data": {
      "image/png": "[encoded data removed]",
      "text/plain": [
       "<Figure size 432x288 with 1 Axes>"
      ]
     },
     "metadata": {
      "needs_background": "light"
     },
     "output_type": "display_data"
    },
    {
     "data": {
      "image/png": "[encoded data removed]",
      "text/plain": [
       "<Figure size 432x288 with 1 Axes>"
      ]
     },
     "metadata": {
      "needs_background": "light"
     },
     "output_type": "display_data"
    },
    {
     "data": {
      "image/png": "[encoded data removed]",
      "text/plain": [
       "<Figure size 432x288 with 1 Axes>"
      ]
     },
     "metadata": {
      "needs_background": "light"
     },
     "output_type": "display_data"
    }
   ],
   "source": [
    "plt1 = features2017.plot(x=\"Rk\", y=\"Pts\", kind = \"bar\")\n",
    "plt2 = features2018.plot(x=\"Rk\", y=\"Pts\", kind = \"bar\")\n",
    "plt3 = features2019.plot(x=\"Rk\", y=\"Pts\", kind = \"bar\")"
   ]
  },
  {
   "cell_type": "markdown",
   "id": "2ac52858",
   "metadata": {},
   "source": [
    "the data looks as expected, but there are some stuff that i want to comment on, and that is that there are some plateaus arround the middle of the ranks in all the years which is a bit interesting, but other than that, the data looks as expected and seems like quite a useful feature\n",
    "<br><br>\n",
    "last feature i intend to add is the win rate, this could help the prediction model quite a bit i believe."
   ]
  },
  {
   "cell_type": "code",
   "execution_count": 17,
   "id": "6277dbb7",
   "metadata": {},
   "outputs": [
    {
     "data": {
      "image/png": "[encoded data removed]",
      "text/plain": [
       "<Figure size 432x288 with 1 Axes>"
      ]
     },
     "metadata": {
      "needs_background": "light"
     },
     "output_type": "display_data"
    },
    {
     "data": {
      "image/png": "[encoded data removed]",
      "text/plain": [
       "<Figure size 432x288 with 1 Axes>"
      ]
     },
     "metadata": {
      "needs_background": "light"
     },
     "output_type": "display_data"
    },
    {
     "data": {
      "image/png": "[encoded data removed]",
      "text/plain": [
       "<Figure size 432x288 with 1 Axes>"
      ]
     },
     "metadata": {
      "needs_background": "light"
     },
     "output_type": "display_data"
    }
   ],
   "source": [
    "plt1 = features2017.plot(x=\"Rk\", y=\"WR\", kind = \"bar\")\n",
    "plt2 = features2018.plot(x=\"Rk\", y=\"WR\", kind = \"bar\")\n",
    "plt3 = features2019.plot(x=\"Rk\", y=\"WR\", kind = \"bar\")"
   ]
  },
  {
   "cell_type": "markdown",
   "id": "e2b7b3f5",
   "metadata": {},
   "source": [
    "this feature seems quite consistent aswell, and i think it could be quite useful for the prediction model\n",
    "<br><br>\n",
    "now i want to apply these features to the data so that it is a part of the prediction, ill also be applying these features to y2020 so that i dont have to do everything in the last step"
   ]
  },
  {
   "cell_type": "code",
   "execution_count": 18,
   "id": "3319f9f5",
   "metadata": {},
   "outputs": [
    {
     "data": {
      "text/plain": [
       "Index(['ID', 'Date', 'Season', 'Team', 'Opponent', 'Venue', 'Rk_x', 'G-PK_x',\n",
       "       'Age_x', 'W_x', 'D_x', 'L_x', 'GD_x', 'Pts_x', 'GF_x', 'WR_x', 'Rk_y',\n",
       "       'G-PK_y', 'Age_y', 'W_y', 'D_y', 'L_y', 'GD_y', 'Pts_y', 'GF_y',\n",
       "       'WR_y'],\n",
       "      dtype='object')"
      ]
     },
     "execution_count": 18,
     "metadata": {},
     "output_type": "execute_result"
    }
   ],
   "source": [
    "y2020 = pd.read_csv(\"prosjekt//2020//test.csv\", encoding = \"UTF-8\")\n",
    "\n",
    "merged2018 = pd.merge(y2018, features2017, how = 'left', on=[\"Team\"])\n",
    "merged2019 = pd.merge(y2019, features2018, how = 'left', on=[\"Team\"])\n",
    "merged2020 = pd.merge(y2020, features2019, how = 'left', on=[\"Team\"])\n",
    "\n",
    "features2017o = features2017.rename(columns={\"Team\": \"Opponent\"})\n",
    "features2018o = features2018.rename(columns={\"Team\": \"Opponent\"})\n",
    "features2019o = features2019.rename(columns={\"Team\": \"Opponent\"})\n",
    "\n",
    "merged2018 = pd.merge(merged2018, features2017o, how = 'left', on=[\"Opponent\"])\n",
    "merged2019 = pd.merge(merged2019, features2018o, how = 'left', on=[\"Opponent\"])\n",
    "y2020WithFeat = pd.merge(merged2020, features2019o, how = 'left', on=[\"Opponent\"])\n",
    "\n",
    "prepared_data = pd.concat([y2017, pd.concat([merged2018, merged2019])])\n",
    "\n",
    "prepared_data = prepared_data.drop(\"Winner\", axis = 1).reset_index(drop = True).fillna(0)\n",
    "y2020WithFeat = y2020WithFeat.reset_index(drop = True).fillna(0)\n",
    "\n",
    "y2020WithFeat.columns"
   ]
  },
  {
   "cell_type": "code",
   "execution_count": 19,
   "id": "39478311",
   "metadata": {},
   "outputs": [],
   "source": [
    "prepared_data.to_csv(\"prepared_data.csv\", index = False, encoding = \"UTF-8\")\n",
    "y2020WithFeat.to_csv(\"prosjekt//2020//testwithfeat.csv\", index = False, encoding = \"UTF-8\")\n",
    "features2019.to_csv(\"FootballApp//data//features.csv\", index = False, encoding = \"UTF-8\")"
   ]
  },
  {
   "cell_type": "code",
   "execution_count": null,
   "id": "ccd0279a",
   "metadata": {},
   "outputs": [],
   "source": []
  }
 ],
 "metadata": {
  "kernelspec": {
   "display_name": "Python 3",
   "language": "python",
   "name": "python3"
  },
  "language_info": {
   "codemirror_mode": {
    "name": "ipython",
    "version": 3
   },
   "file_extension": ".py",
   "mimetype": "text/x-python",
   "name": "python",
   "nbconvert_exporter": "python",
   "pygments_lexer": "ipython3",
   "version": "3.8.8"
  }
 },
 "nbformat": 4,
 "nbformat_minor": 5
}
