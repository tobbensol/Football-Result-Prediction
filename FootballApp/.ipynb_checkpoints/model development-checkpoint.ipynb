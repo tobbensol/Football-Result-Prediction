{
 "cells": [
  {
   "cell_type": "code",
   "execution_count": 1,
   "metadata": {},
   "outputs": [],
   "source": [
    "import numpy as np\n",
    "import pandas as pd\n",
    "from itertools import product\n",
    "import pickle\n",
    "\n",
    "from sklearn.model_selection import train_test_split\n",
    "from sklearn.compose import ColumnTransformer\n",
    "from sklearn.preprocessing import StandardScaler, OneHotEncoder\n",
    "from sklearn.impute import SimpleImputer, KNNImputer\n",
    "from sklearn.linear_model import LinearRegression, Lasso\n",
    "from sklearn.ensemble import RandomForestRegressor\n",
    "from sklearn.svm import SVR\n",
    "from sklearn.pipeline import Pipeline\n",
    "from sklearn.metrics import mean_squared_error"
   ]
  },
  {
   "cell_type": "code",
   "execution_count": 2,
   "metadata": {},
   "outputs": [],
   "source": [
    "# lese inn data\n",
    "data = pd.read_csv('data/huspris.csv')"
   ]
  },
  {
   "cell_type": "code",
   "execution_count": 3,
   "metadata": {},
   "outputs": [],
   "source": [
    "# velge ut features\n",
    "numeric_features = ['LotFrontage', 'LotArea', 'OverallQual', 'YrSold']\n",
    "categorical_features = ['Street', 'HouseStyle', 'BsmtQual', 'GarageCond']"
   ]
  },
  {
   "cell_type": "code",
   "execution_count": 4,
   "metadata": {},
   "outputs": [],
   "source": [
    "# del data i X og y\n",
    "X = data.loc[:, numeric_features + categorical_features]\n",
    "y = data.SalePrice"
   ]
  },
  {
   "cell_type": "code",
   "execution_count": 5,
   "metadata": {},
   "outputs": [],
   "source": [
    "# dele data i trenings, validerings og testdata\n",
    "X_train, X_valtest, y_train, y_valtest = train_test_split(X, y, test_size=0.3, random_state=42)\n",
    "X_val, X_test, y_val, y_test = train_test_split(X_valtest, y_valtest, test_size=0.5, random_state=42)"
   ]
  },
  {
   "cell_type": "code",
   "execution_count": 6,
   "metadata": {},
   "outputs": [],
   "source": [
    "# imputers\n",
    "imputers = {\n",
    "    'median': SimpleImputer(strategy='median'), \n",
    "    'knn': KNNImputer(n_neighbors=10)\n",
    "}"
   ]
  },
  {
   "cell_type": "code",
   "execution_count": 7,
   "metadata": {},
   "outputs": [],
   "source": [
    "# modeller\n",
    "models = {'lr': LinearRegression(),\n",
    "          'lasso': Lasso(alpha=1),\n",
    "          'rf': RandomForestRegressor(), \n",
    "          'svm': SVR()}   "
   ]
  },
  {
   "cell_type": "code",
   "execution_count": 8,
   "metadata": {},
   "outputs": [],
   "source": [
    "# kombiner\n",
    "pipes = {imputer_key + '_' + regressor_key: Pipeline(\n",
    "    steps=[('preprocess', ColumnTransformer(transformers=[\n",
    "        ('num', Pipeline(steps = [('impute', imputer), ('scaler', StandardScaler())]), numeric_features),\n",
    "        ('cat', Pipeline(steps = [('ohe', OneHotEncoder(handle_unknown='ignore', sparse=False))]), categorical_features)])),\n",
    "           ('regress', regressor)])\n",
    "         for (imputer_key, imputer), (regressor_key, regressor) in product(imputers.items(), models.items())}"
   ]
  },
  {
   "cell_type": "code",
   "execution_count": 9,
   "metadata": {},
   "outputs": [],
   "source": [
    "# modelutvalg\n",
    "validation_rmse = pd.DataFrame(\n",
    "    {key: mean_squared_error(y_val, pipe.fit(X_train, y_train).predict(X_val), squared=False)\n",
    "     for key, pipe in pipes.items()}.items(),\n",
    "    columns=['model', 'rmse'])\n",
    "best_model = pipes[validation_rmse.loc[np.argmin(validation_rmse.rmse), 'model']]"
   ]
  },
  {
   "cell_type": "code",
   "execution_count": 10,
   "metadata": {},
   "outputs": [
    {
     "name": "stdout",
     "output_type": "stream",
     "text": [
      "Test RMSE: 42621.51312277594\n",
      "Pipeline(steps=[('preprocess',\n",
      "                 ColumnTransformer(transformers=[('num',\n",
      "                                                  Pipeline(steps=[('impute',\n",
      "                                                                   SimpleImputer(strategy='median')),\n",
      "                                                                  ('scaler',\n",
      "                                                                   StandardScaler())]),\n",
      "                                                  ['LotFrontage', 'LotArea',\n",
      "                                                   'OverallQual', 'YrSold']),\n",
      "                                                 ('cat',\n",
      "                                                  Pipeline(steps=[('ohe',\n",
      "                                                                   OneHotEncoder(handle_unknown='ignore',\n",
      "                                                                                 sparse=False))]),\n",
      "                                                  ['Street', 'HouseStyle',\n",
      "                                                   'BsmtQual',\n",
      "                                                   'GarageCond'])])),\n",
      "                ('regress', RandomForestRegressor())])\n"
     ]
    }
   ],
   "source": [
    "# modell og generaliseringsfeil\n",
    "print('Test RMSE:', mean_squared_error(y_test, best_model.predict(X_test), squared=False))\n",
    "print(best_model)"
   ]
  },
  {
   "cell_type": "code",
   "execution_count": 11,
   "metadata": {},
   "outputs": [],
   "source": [
    "# lagre model\n",
    "pickle.dump(best_model, open('model.pkl', 'wb'))"
   ]
  }
 ],
 "metadata": {
  "kernelspec": {
   "display_name": "Python 3",
   "language": "python",
   "name": "python3"
  },
  "language_info": {
   "codemirror_mode": {
    "name": "ipython",
    "version": 3
   },
   "file_extension": ".py",
   "mimetype": "text/x-python",
   "name": "python",
   "nbconvert_exporter": "python",
   "pygments_lexer": "ipython3",
   "version": "3.8.8"
  }
 },
 "nbformat": 4,
 "nbformat_minor": 2
}
