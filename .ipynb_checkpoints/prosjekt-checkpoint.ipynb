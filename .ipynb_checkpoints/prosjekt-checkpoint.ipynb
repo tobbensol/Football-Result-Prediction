{
 "cells": [
  {
   "cell_type": "markdown",
   "id": "c19b741a",
   "metadata": {},
   "source": [
    "#### Kriteriet er kopla til eit læringsmålData ready to use\n",
    "(a) The final data is such that each row in the data corresponds to exactly 1 score that should be predicted.<br>\n",
    "(b) The data does not leak any information (using player statistics of a given year to predict a score that happened in the same year).<br>\n",
    "(c) The features in the final data are reasonable<br>\n",
    "\n",
    "#### Kriteriet er kopla til eit læringsmålData description\n",
    "(a) The different raw datasets as well as the combined datasets are described appropriately. <br>\n",
    "(b) Some basic visualizations of the data that allows us to understand basic properties are available and explained.\n",
    "\n",
    "#### Kriteriet er kopla til eit læringsmålReport\n",
    "(a) The report is clear, well-written and understandable. <br>\n",
    "(b) The code is readable and documented.<br>"
   ]
  },
  {
   "cell_type": "markdown",
   "id": "c16fc0d8",
   "metadata": {},
   "source": [
    "Generelt gode forklaringer på hva du gjør underveis og hvorfor du tar de ulike valgene. Det er gode visualiseringer som er lette å lese med navn på det som skal være navn på, og med forklaringer på hvorfor dette er interessant å visualisere. God analysering av grafene Synes denne delen av prosjektet svarer godt på oppgaven og du viser at du gjør bevisste valg for hva du skal gjøre videre i prosjektet. Til den endelige versjonen av prosjektet: vær konsekvent på om du skriver beskrivelsen før eller etter koden, og hold deg til enten norsk eller engelsk i beskrivelsene"
   ]
  },
  {
   "cell_type": "code",
   "execution_count": 1,
   "id": "61d37aeb",
   "metadata": {
    "scrolled": false
   },
   "outputs": [],
   "source": [
    "# import pandas\n",
    "import pandas as pd\n",
    "\n",
    "# import files as dataframes, when you import from html you get a list of dataframes, so i need the [0]th element as there is only one element\n",
    "games2017 = pd.read_html('prosjekt\\\\2017\\\\games.xls', encoding=\"UTF-8\")[0]\n",
    "games2018 = pd.read_html('prosjekt\\\\2018\\\\games.xls', encoding=\"UTF-8\")[0]\n",
    "games2019 = pd.read_html('prosjekt\\\\2019\\\\games.xls', encoding=\"UTF-8\")[0]\n",
    "\n",
    "#combines all the dataframes into one big one\n",
    "raw_data = games2017.append(games2018).append(games2019)"
   ]
  },
  {
   "cell_type": "markdown",
   "id": "a8f7845d",
   "metadata": {},
   "source": [
    "#### cleaning the data\n",
    "the first thing we need to do is to clean the data and make sure that it is usable<br>\n",
    "what i am doing is to split the score into 2 different collumns, remove NaN values from Score, Home and away because the data is useless without those columns"
   ]
  },
  {
   "cell_type": "code",
   "execution_count": 2,
   "id": "a2077323",
   "metadata": {
    "scrolled": false
   },
   "outputs": [
    {
     "data": {
      "text/html": [
       "<div>\n",
       "<style scoped>\n",
       "    .dataframe tbody tr th:only-of-type {\n",
       "        vertical-align: middle;\n",
       "    }\n",
       "\n",
       "    .dataframe tbody tr th {\n",
       "        vertical-align: top;\n",
       "    }\n",
       "\n",
       "    .dataframe thead th {\n",
       "        text-align: right;\n",
       "    }\n",
       "</style>\n",
       "<table border=\"1\" class=\"dataframe\">\n",
       "  <thead>\n",
       "    <tr style=\"text-align: right;\">\n",
       "      <th></th>\n",
       "      <th>Date</th>\n",
       "      <th>Home</th>\n",
       "      <th>Home score</th>\n",
       "      <th>Away score</th>\n",
       "      <th>Away</th>\n",
       "    </tr>\n",
       "  </thead>\n",
       "  <tbody>\n",
       "    <tr>\n",
       "      <th>0</th>\n",
       "      <td>2017-04-17</td>\n",
       "      <td>Medkila</td>\n",
       "      <td>1</td>\n",
       "      <td>1</td>\n",
       "      <td>Sandviken</td>\n",
       "    </tr>\n",
       "    <tr>\n",
       "      <th>1</th>\n",
       "      <td>2017-04-17</td>\n",
       "      <td>Avaldsnes</td>\n",
       "      <td>2</td>\n",
       "      <td>1</td>\n",
       "      <td>Vålerenga</td>\n",
       "    </tr>\n",
       "    <tr>\n",
       "      <th>2</th>\n",
       "      <td>2017-04-17</td>\n",
       "      <td>Grand Bodø</td>\n",
       "      <td>2</td>\n",
       "      <td>2</td>\n",
       "      <td>Arna-Bjørnar</td>\n",
       "    </tr>\n",
       "    <tr>\n",
       "      <th>3</th>\n",
       "      <td>2017-04-17</td>\n",
       "      <td>Røa</td>\n",
       "      <td>1</td>\n",
       "      <td>2</td>\n",
       "      <td>Stabæk</td>\n",
       "    </tr>\n",
       "    <tr>\n",
       "      <th>4</th>\n",
       "      <td>2017-04-17</td>\n",
       "      <td>LSK Kvinner</td>\n",
       "      <td>6</td>\n",
       "      <td>1</td>\n",
       "      <td>Klepp</td>\n",
       "    </tr>\n",
       "    <tr>\n",
       "      <th>...</th>\n",
       "      <td>...</td>\n",
       "      <td>...</td>\n",
       "      <td>...</td>\n",
       "      <td>...</td>\n",
       "      <td>...</td>\n",
       "    </tr>\n",
       "    <tr>\n",
       "      <th>154</th>\n",
       "      <td>2019-11-16</td>\n",
       "      <td>Kolbotn</td>\n",
       "      <td>0</td>\n",
       "      <td>0</td>\n",
       "      <td>Lyn</td>\n",
       "    </tr>\n",
       "    <tr>\n",
       "      <th>155</th>\n",
       "      <td>2019-11-16</td>\n",
       "      <td>Arna-Bjørnar</td>\n",
       "      <td>0</td>\n",
       "      <td>2</td>\n",
       "      <td>Vålerenga</td>\n",
       "    </tr>\n",
       "    <tr>\n",
       "      <th>156</th>\n",
       "      <td>2019-11-16</td>\n",
       "      <td>Fart</td>\n",
       "      <td>1</td>\n",
       "      <td>6</td>\n",
       "      <td>Klepp</td>\n",
       "    </tr>\n",
       "    <tr>\n",
       "      <th>158</th>\n",
       "      <td>2019-11-24</td>\n",
       "      <td>IF Fløya</td>\n",
       "      <td>0</td>\n",
       "      <td>5</td>\n",
       "      <td>Lyn</td>\n",
       "    </tr>\n",
       "    <tr>\n",
       "      <th>159</th>\n",
       "      <td>2019-12-01</td>\n",
       "      <td>Lyn</td>\n",
       "      <td>2</td>\n",
       "      <td>1</td>\n",
       "      <td>IF Fløya</td>\n",
       "    </tr>\n",
       "  </tbody>\n",
       "</table>\n",
       "<p>398 rows × 5 columns</p>\n",
       "</div>"
      ],
      "text/plain": [
       "           Date          Home  Home score  Away score          Away\n",
       "0    2017-04-17       Medkila           1           1     Sandviken\n",
       "1    2017-04-17     Avaldsnes           2           1     Vålerenga\n",
       "2    2017-04-17    Grand Bodø           2           2  Arna-Bjørnar\n",
       "3    2017-04-17           Røa           1           2        Stabæk\n",
       "4    2017-04-17   LSK Kvinner           6           1         Klepp\n",
       "..          ...           ...         ...         ...           ...\n",
       "154  2019-11-16       Kolbotn           0           0           Lyn\n",
       "155  2019-11-16  Arna-Bjørnar           0           2     Vålerenga\n",
       "156  2019-11-16          Fart           1           6         Klepp\n",
       "158  2019-11-24      IF Fløya           0           5           Lyn\n",
       "159  2019-12-01           Lyn           2           1      IF Fløya\n",
       "\n",
       "[398 rows x 5 columns]"
      ]
     },
     "execution_count": 2,
     "metadata": {},
     "output_type": "execute_result"
    }
   ],
   "source": [
    "raw_data = raw_data.dropna(subset = [\"Score\", \"Home\", \"Away\"])\n",
    "raw_data[\"Home score\"] = raw_data[\"Score\"].str[0:1].astype(\"int\")\n",
    "raw_data[\"Away score\"] = raw_data[\"Score\"].str[2:3].astype(\"int\")\n",
    "raw_data = raw_data.loc[:,[\"Date\", \"Home\", \"Home score\", \"Away score\", \"Away\"]]\n",
    "\n",
    "raw_data"
   ]
  },
  {
   "cell_type": "markdown",
   "id": "7b86f194",
   "metadata": {},
   "source": [
    "#### Formating the data\n",
    "with a clean data set with the values we intend to use we can start making a new dataset with the same format as the input data. \n",
    "having propperly formated data also helps with visualization of the data.\n",
    "because we want the same format as the input data we are going to need the collumns<br>\n",
    "<ul>\n",
    "    <li> id to have a way to identify games </li>\n",
    "    <li> Date to make sure we dont use games that happened in the future to predict games in the past </li>\n",
    "    <li> Season so we can compare between seasons</li>\n",
    "    <li> Team so we can see who is playing </li>\n",
    "    <li> opponent so we can see who they are playing against </li>\n",
    "    <li> venue so we can see what team is at home and which is away</li>\n",
    "</ul>\n",
    "i am also adding 2 collumns which i am going to use for visualization and to teach the machine learning model, those collumns being:<br>\n",
    "<ul>\n",
    "    <li> Goals to teach the model to predict goals and to see if various aspects of the game affects the amount of goals</li>\n",
    "    <li> Winner is quite simmilar to the amount of goals, and it is there as i want to try predicting the winner before i want to predict the score to test if my model works, it can also be used for visualization </li>\n",
    "</ul>\n",
    "when the data is formated like this we only get the score of one team, the one in the \"team\" collumn, so we are going to have to split each game into 2 rows which share the same id so that we can how many goals the teams score against the other \n",
    "   "
   ]
  },
  {
   "cell_type": "code",
   "execution_count": 3,
   "id": "256dc8b6",
   "metadata": {},
   "outputs": [
    {
     "data": {
      "text/html": [
       "<div>\n",
       "<style scoped>\n",
       "    .dataframe tbody tr th:only-of-type {\n",
       "        vertical-align: middle;\n",
       "    }\n",
       "\n",
       "    .dataframe tbody tr th {\n",
       "        vertical-align: top;\n",
       "    }\n",
       "\n",
       "    .dataframe thead th {\n",
       "        text-align: right;\n",
       "    }\n",
       "</style>\n",
       "<table border=\"1\" class=\"dataframe\">\n",
       "  <thead>\n",
       "    <tr style=\"text-align: right;\">\n",
       "      <th></th>\n",
       "      <th>ID</th>\n",
       "      <th>Date</th>\n",
       "      <th>Season</th>\n",
       "      <th>Team</th>\n",
       "      <th>Opponent</th>\n",
       "      <th>Venue</th>\n",
       "      <th>Goals</th>\n",
       "      <th>Winner</th>\n",
       "    </tr>\n",
       "  </thead>\n",
       "  <tbody>\n",
       "    <tr>\n",
       "      <th>0</th>\n",
       "      <td>0</td>\n",
       "      <td>2017-04-17</td>\n",
       "      <td>2017</td>\n",
       "      <td>Medkila</td>\n",
       "      <td>Sandviken</td>\n",
       "      <td>Home</td>\n",
       "      <td>1</td>\n",
       "      <td>Draw</td>\n",
       "    </tr>\n",
       "    <tr>\n",
       "      <th>1</th>\n",
       "      <td>0</td>\n",
       "      <td>2017-04-17</td>\n",
       "      <td>2017</td>\n",
       "      <td>Sandviken</td>\n",
       "      <td>Medkila</td>\n",
       "      <td>Away</td>\n",
       "      <td>1</td>\n",
       "      <td>Draw</td>\n",
       "    </tr>\n",
       "    <tr>\n",
       "      <th>2</th>\n",
       "      <td>1</td>\n",
       "      <td>2017-04-17</td>\n",
       "      <td>2017</td>\n",
       "      <td>Avaldsnes</td>\n",
       "      <td>Vålerenga</td>\n",
       "      <td>Home</td>\n",
       "      <td>2</td>\n",
       "      <td>Home</td>\n",
       "    </tr>\n",
       "    <tr>\n",
       "      <th>3</th>\n",
       "      <td>1</td>\n",
       "      <td>2017-04-17</td>\n",
       "      <td>2017</td>\n",
       "      <td>Vålerenga</td>\n",
       "      <td>Avaldsnes</td>\n",
       "      <td>Away</td>\n",
       "      <td>1</td>\n",
       "      <td>Home</td>\n",
       "    </tr>\n",
       "    <tr>\n",
       "      <th>4</th>\n",
       "      <td>2</td>\n",
       "      <td>2017-04-17</td>\n",
       "      <td>2017</td>\n",
       "      <td>Grand Bodø</td>\n",
       "      <td>Arna-Bjørnar</td>\n",
       "      <td>Home</td>\n",
       "      <td>2</td>\n",
       "      <td>Draw</td>\n",
       "    </tr>\n",
       "    <tr>\n",
       "      <th>...</th>\n",
       "      <td>...</td>\n",
       "      <td>...</td>\n",
       "      <td>...</td>\n",
       "      <td>...</td>\n",
       "      <td>...</td>\n",
       "      <td>...</td>\n",
       "      <td>...</td>\n",
       "      <td>...</td>\n",
       "    </tr>\n",
       "    <tr>\n",
       "      <th>791</th>\n",
       "      <td>156</td>\n",
       "      <td>2019-11-16</td>\n",
       "      <td>2019</td>\n",
       "      <td>Klepp</td>\n",
       "      <td>Fart</td>\n",
       "      <td>Away</td>\n",
       "      <td>6</td>\n",
       "      <td>Away</td>\n",
       "    </tr>\n",
       "    <tr>\n",
       "      <th>792</th>\n",
       "      <td>158</td>\n",
       "      <td>2019-11-24</td>\n",
       "      <td>2019</td>\n",
       "      <td>IF Fløya</td>\n",
       "      <td>Lyn</td>\n",
       "      <td>Home</td>\n",
       "      <td>0</td>\n",
       "      <td>Away</td>\n",
       "    </tr>\n",
       "    <tr>\n",
       "      <th>793</th>\n",
       "      <td>158</td>\n",
       "      <td>2019-11-24</td>\n",
       "      <td>2019</td>\n",
       "      <td>Lyn</td>\n",
       "      <td>IF Fløya</td>\n",
       "      <td>Away</td>\n",
       "      <td>5</td>\n",
       "      <td>Away</td>\n",
       "    </tr>\n",
       "    <tr>\n",
       "      <th>794</th>\n",
       "      <td>159</td>\n",
       "      <td>2019-12-01</td>\n",
       "      <td>2019</td>\n",
       "      <td>Lyn</td>\n",
       "      <td>IF Fløya</td>\n",
       "      <td>Home</td>\n",
       "      <td>2</td>\n",
       "      <td>Home</td>\n",
       "    </tr>\n",
       "    <tr>\n",
       "      <th>795</th>\n",
       "      <td>159</td>\n",
       "      <td>2019-12-01</td>\n",
       "      <td>2019</td>\n",
       "      <td>IF Fløya</td>\n",
       "      <td>Lyn</td>\n",
       "      <td>Away</td>\n",
       "      <td>1</td>\n",
       "      <td>Home</td>\n",
       "    </tr>\n",
       "  </tbody>\n",
       "</table>\n",
       "<p>796 rows × 8 columns</p>\n",
       "</div>"
      ],
      "text/plain": [
       "      ID        Date Season        Team      Opponent Venue Goals Winner\n",
       "0      0  2017-04-17   2017     Medkila     Sandviken  Home     1   Draw\n",
       "1      0  2017-04-17   2017   Sandviken       Medkila  Away     1   Draw\n",
       "2      1  2017-04-17   2017   Avaldsnes     Vålerenga  Home     2   Home\n",
       "3      1  2017-04-17   2017   Vålerenga     Avaldsnes  Away     1   Home\n",
       "4      2  2017-04-17   2017  Grand Bodø  Arna-Bjørnar  Home     2   Draw\n",
       "..   ...         ...    ...         ...           ...   ...   ...    ...\n",
       "791  156  2019-11-16   2019       Klepp          Fart  Away     6   Away\n",
       "792  158  2019-11-24   2019    IF Fløya           Lyn  Home     0   Away\n",
       "793  158  2019-11-24   2019         Lyn      IF Fløya  Away     5   Away\n",
       "794  159  2019-12-01   2019         Lyn      IF Fløya  Home     2   Home\n",
       "795  159  2019-12-01   2019    IF Fløya           Lyn  Away     1   Home\n",
       "\n",
       "[796 rows x 8 columns]"
      ]
     },
     "execution_count": 3,
     "metadata": {},
     "output_type": "execute_result"
    }
   ],
   "source": [
    "clean_data = pd.DataFrame(columns=[\"ID\",\"Date\",\"Season\",\"Team\",\"Opponent\",\"Venue\", \"Goals\", \"Winner\"])\n",
    "\n",
    "#this dict is to translate values from the raw data into the dataframe that has the same format as the input data\n",
    "\n",
    "# my intention is to splitt the rows into 2, so that it says that \n",
    "# \"x team played against y team at Home\" and then \"y team played agains x team Away\"\n",
    "\n",
    "for index, row in raw_data.iterrows():\n",
    "        #finds out what the outcome of the match was \n",
    "    if(row[\"Away score\"] > row[\"Home score\"]):\n",
    "        result = \"Away\"\n",
    "    elif (row[\"Away score\"] < row[\"Home score\"]):\n",
    "        result = \"Home\"\n",
    "    else:\n",
    "        result = \"Draw\"\n",
    "    \n",
    "    #this dict is to translate values from the raw data into the dataframe that has the same format as the input data\n",
    "    home_dict = {\n",
    "        \"ID\" : index,\n",
    "        \"Date\" : row[\"Date\"],\n",
    "        \"Season\" : int(row[\"Date\"][:4]),\n",
    "        \"Team\" : row[\"Home\"],\n",
    "        \"Opponent\" : row[\"Away\"],\n",
    "        \"Venue\" : \"Home\",\n",
    "        \"Goals\" : row[\"Home score\"],\n",
    "        \"Winner\" : result\n",
    "     }\n",
    "\n",
    "    away_dict = {\n",
    "        \"ID\" : index,\n",
    "        \"Date\" : row[\"Date\"],\n",
    "        \"Season\" : int(row[\"Date\"][:4]),\n",
    "        \"Team\" : row[\"Away\"],\n",
    "        \"Opponent\" : row[\"Home\"],\n",
    "        \"Venue\" : \"Away\",\n",
    "        \"Goals\" : row[\"Away score\"],\n",
    "        \"Winner\" : result\n",
    "\n",
    "    }\n",
    "    \n",
    "    #adds home vs away, then away vs home\n",
    "    clean_data = clean_data.append(home_dict, ignore_index = True)\n",
    "    clean_data = clean_data.append(away_dict, ignore_index = True)\n",
    "    \n",
    "clean_data\n",
    "\n",
    "#this is the clean dataframe that we can use from now on out"
   ]
  },
  {
   "cell_type": "markdown",
   "id": "f374b232",
   "metadata": {},
   "source": [
    "#### visualization\n",
    "visualization can help quite a bit to find what factors to look upon when we want to make the machine learning model. when you visualize you have to find some factors that might be relevant to what you are working on and the visualization. some examples of factors that might affect how well a team plays is wether the team is playing at home or if the team is playing away and the average age of the people playing on the team, so in this section i intend to look into some data that could be interesting to look at<br><br>\n",
    "the first thing i am interested to look at is how the location of the game affects the outcome of the game and by how much."
   ]
  },
  {
   "cell_type": "code",
   "execution_count": 4,
   "id": "e41590db",
   "metadata": {
    "scrolled": false
   },
   "outputs": [
    {
     "data": {
      "text/html": [
       "<div>\n",
       "<style scoped>\n",
       "    .dataframe tbody tr th:only-of-type {\n",
       "        vertical-align: middle;\n",
       "    }\n",
       "\n",
       "    .dataframe tbody tr th {\n",
       "        vertical-align: top;\n",
       "    }\n",
       "\n",
       "    .dataframe thead th {\n",
       "        text-align: right;\n",
       "    }\n",
       "</style>\n",
       "<table border=\"1\" class=\"dataframe\">\n",
       "  <thead>\n",
       "    <tr style=\"text-align: right;\">\n",
       "      <th>Year</th>\n",
       "      <th>2017</th>\n",
       "      <th>2018</th>\n",
       "      <th>2019</th>\n",
       "    </tr>\n",
       "    <tr>\n",
       "      <th>Result</th>\n",
       "      <th></th>\n",
       "      <th></th>\n",
       "      <th></th>\n",
       "    </tr>\n",
       "  </thead>\n",
       "  <tbody>\n",
       "    <tr>\n",
       "      <th>Away</th>\n",
       "      <td>96</td>\n",
       "      <td>92</td>\n",
       "      <td>96</td>\n",
       "    </tr>\n",
       "    <tr>\n",
       "      <th>Draw</th>\n",
       "      <td>48</td>\n",
       "      <td>46</td>\n",
       "      <td>62</td>\n",
       "    </tr>\n",
       "    <tr>\n",
       "      <th>Home</th>\n",
       "      <td>120</td>\n",
       "      <td>126</td>\n",
       "      <td>110</td>\n",
       "    </tr>\n",
       "  </tbody>\n",
       "</table>\n",
       "</div>"
      ],
      "text/plain": [
       "Year    2017  2018  2019\n",
       "Result                  \n",
       "Away      96    92    96\n",
       "Draw      48    46    62\n",
       "Home     120   126   110"
      ]
     },
     "execution_count": 4,
     "metadata": {},
     "output_type": "execute_result"
    },
    {
     "data": {
      "image/png": "[encoded data removed]",
      "text/plain": [
       "<Figure size 432x288 with 1 Axes>"
      ]
     },
     "metadata": {
      "needs_background": "light"
     },
     "output_type": "display_data"
    }
   ],
   "source": [
    "y2017 = clean_data.loc[clean_data[\"Season\"] == 2017]\n",
    "y2018 = clean_data.loc[clean_data[\"Season\"] == 2018]\n",
    "y2019 = clean_data.loc[clean_data[\"Season\"] == 2019]\n",
    "\n",
    "#i make a new df that has the amount of home, away and draws as rows and the year as columns\n",
    "df = y2017.groupby([\"Winner\"])[[\"Venue\"]].count()\n",
    "df[\"2018\"] = y2018.groupby([\"Winner\"])[[\"Venue\"]].count()\n",
    "df[\"2019\"] = y2019.groupby([\"Winner\"])[[\"Venue\"]].count()\n",
    "df = df.rename({'Venue': '2017'}, axis=1)\n",
    "df = df.rename_axis(\"Result\", axis=\"rows\")\n",
    "df = df.rename_axis(\"Year\", axis=\"columns\")\n",
    "\n",
    "# makes the plot\n",
    "fig = df.plot(ylabel = \"Games #\", kind = \"bar\", title = \"Number of draws, home and away victories per year\")\n",
    "fig\n",
    "df"
   ]
  },
  {
   "cell_type": "markdown",
   "id": "7b667895",
   "metadata": {},
   "source": [
    "from this graph we can see that the home team wins more often on average than the away team. this is also quite consistent between years, the greatest differance is between 2018 and 2019 where there were quite a few more draws and less home wins but there are still more home wins than away wins. this makes me think that there is more to look into when it comes to the location of the match."
   ]
  },
  {
   "cell_type": "code",
   "execution_count": 5,
   "id": "242d5f1c",
   "metadata": {},
   "outputs": [
    {
     "data": {
      "text/html": [
       "<div>\n",
       "<style scoped>\n",
       "    .dataframe tbody tr th:only-of-type {\n",
       "        vertical-align: middle;\n",
       "    }\n",
       "\n",
       "    .dataframe tbody tr th {\n",
       "        vertical-align: top;\n",
       "    }\n",
       "\n",
       "    .dataframe thead th {\n",
       "        text-align: right;\n",
       "    }\n",
       "</style>\n",
       "<table border=\"1\" class=\"dataframe\">\n",
       "  <thead>\n",
       "    <tr style=\"text-align: right;\">\n",
       "      <th>Year</th>\n",
       "      <th>2017</th>\n",
       "      <th>2018</th>\n",
       "      <th>2019</th>\n",
       "    </tr>\n",
       "    <tr>\n",
       "      <th>Venue</th>\n",
       "      <th></th>\n",
       "      <th></th>\n",
       "      <th></th>\n",
       "    </tr>\n",
       "  </thead>\n",
       "  <tbody>\n",
       "    <tr>\n",
       "      <th>Away</th>\n",
       "      <td>190</td>\n",
       "      <td>191</td>\n",
       "      <td>188</td>\n",
       "    </tr>\n",
       "    <tr>\n",
       "      <th>Home</th>\n",
       "      <td>243</td>\n",
       "      <td>252</td>\n",
       "      <td>223</td>\n",
       "    </tr>\n",
       "  </tbody>\n",
       "</table>\n",
       "</div>"
      ],
      "text/plain": [
       "Year   2017  2018  2019\n",
       "Venue                  \n",
       "Away    190   191   188\n",
       "Home    243   252   223"
      ]
     },
     "execution_count": 5,
     "metadata": {},
     "output_type": "execute_result"
    },
    {
     "data": {
      "image/png": "[encoded data removed]",
      "text/plain": [
       "<Figure size 432x288 with 1 Axes>"
      ]
     },
     "metadata": {
      "needs_background": "light"
     },
     "output_type": "display_data"
    }
   ],
   "source": [
    "# this is the same that i did on the previous code box, but focusing on the amount of goals instead of the amount of victories\n",
    "df = y2017.groupby([\"Venue\"])[[\"Goals\"]].sum()\n",
    "df[\"2018\"] = y2018.groupby([\"Venue\"])[[\"Goals\"]].sum()\n",
    "df[\"2019\"] = y2019.groupby([\"Venue\"])[[\"Goals\"]].sum()\n",
    "\n",
    "# renames axies and columns to make the DF and plot readable\n",
    "df = df.rename({'Goals': '2017'}, axis=1)\n",
    "df = df.rename_axis(\"Year\", axis=\"columns\")\n",
    "\n",
    "fig = df.plot(ylabel = \"Goal #\", kind = \"bar\", title = \"Number of goals at home and away per year\")\n",
    "fig\n",
    "df"
   ]
  },
  {
   "cell_type": "markdown",
   "id": "abde0aee",
   "metadata": {},
   "source": [
    "as you can see the average amount of goals away is lower than the amount of goals at home. this is the same result as with wins and it is just as consistent as the last graph, so the team playing at home is likely to have an advantage over the team playing away meaning that we could most likely use this to predict the outcome of the match<br><br>\n"
   ]
  },
  {
   "cell_type": "code",
   "execution_count": 29,
   "id": "458af549",
   "metadata": {
    "scrolled": false
   },
   "outputs": [
    {
     "data": {
      "text/html": [
       "<div>\n",
       "<style scoped>\n",
       "    .dataframe tbody tr th:only-of-type {\n",
       "        vertical-align: middle;\n",
       "    }\n",
       "\n",
       "    .dataframe tbody tr th {\n",
       "        vertical-align: top;\n",
       "    }\n",
       "\n",
       "    .dataframe thead th {\n",
       "        text-align: right;\n",
       "    }\n",
       "</style>\n",
       "<table border=\"1\" class=\"dataframe\">\n",
       "  <thead>\n",
       "    <tr style=\"text-align: right;\">\n",
       "      <th></th>\n",
       "      <th>Rk</th>\n",
       "      <th>Squad</th>\n",
       "      <th>GF</th>\n",
       "      <th>GD</th>\n",
       "    </tr>\n",
       "  </thead>\n",
       "  <tbody>\n",
       "    <tr>\n",
       "      <th>0</th>\n",
       "      <td>1</td>\n",
       "      <td>LSK Kvinner</td>\n",
       "      <td>68</td>\n",
       "      <td>50</td>\n",
       "    </tr>\n",
       "    <tr>\n",
       "      <th>1</th>\n",
       "      <td>2</td>\n",
       "      <td>Avaldsnes</td>\n",
       "      <td>51</td>\n",
       "      <td>34</td>\n",
       "    </tr>\n",
       "    <tr>\n",
       "      <th>2</th>\n",
       "      <td>3</td>\n",
       "      <td>Stabæk</td>\n",
       "      <td>46</td>\n",
       "      <td>23</td>\n",
       "    </tr>\n",
       "    <tr>\n",
       "      <th>3</th>\n",
       "      <td>4</td>\n",
       "      <td>Klepp</td>\n",
       "      <td>34</td>\n",
       "      <td>10</td>\n",
       "    </tr>\n",
       "    <tr>\n",
       "      <th>4</th>\n",
       "      <td>5</td>\n",
       "      <td>Røa</td>\n",
       "      <td>42</td>\n",
       "      <td>14</td>\n",
       "    </tr>\n",
       "    <tr>\n",
       "      <th>5</th>\n",
       "      <td>6</td>\n",
       "      <td>Arna-Bjørnar</td>\n",
       "      <td>39</td>\n",
       "      <td>11</td>\n",
       "    </tr>\n",
       "    <tr>\n",
       "      <th>6</th>\n",
       "      <td>7</td>\n",
       "      <td>Vålerenga</td>\n",
       "      <td>38</td>\n",
       "      <td>5</td>\n",
       "    </tr>\n",
       "    <tr>\n",
       "      <th>7</th>\n",
       "      <td>8</td>\n",
       "      <td>Trondheims-Ørn</td>\n",
       "      <td>36</td>\n",
       "      <td>0</td>\n",
       "    </tr>\n",
       "    <tr>\n",
       "      <th>8</th>\n",
       "      <td>9</td>\n",
       "      <td>Sandviken</td>\n",
       "      <td>23</td>\n",
       "      <td>-11</td>\n",
       "    </tr>\n",
       "    <tr>\n",
       "      <th>9</th>\n",
       "      <td>10</td>\n",
       "      <td>Kolbotn</td>\n",
       "      <td>17</td>\n",
       "      <td>-26</td>\n",
       "    </tr>\n",
       "    <tr>\n",
       "      <th>10</th>\n",
       "      <td>11</td>\n",
       "      <td>Grand Bodø</td>\n",
       "      <td>30</td>\n",
       "      <td>-50</td>\n",
       "    </tr>\n",
       "    <tr>\n",
       "      <th>11</th>\n",
       "      <td>12</td>\n",
       "      <td>Medkila</td>\n",
       "      <td>9</td>\n",
       "      <td>-60</td>\n",
       "    </tr>\n",
       "  </tbody>\n",
       "</table>\n",
       "</div>"
      ],
      "text/plain": [
       "    Rk           Squad  GF  GD\n",
       "0    1     LSK Kvinner  68  50\n",
       "1    2       Avaldsnes  51  34\n",
       "2    3          Stabæk  46  23\n",
       "3    4           Klepp  34  10\n",
       "4    5             Røa  42  14\n",
       "5    6    Arna-Bjørnar  39  11\n",
       "6    7       Vålerenga  38   5\n",
       "7    8  Trondheims-Ørn  36   0\n",
       "8    9       Sandviken  23 -11\n",
       "9   10         Kolbotn  17 -26\n",
       "10  11      Grand Bodø  30 -50\n",
       "11  12         Medkila   9 -60"
      ]
     },
     "execution_count": 29,
     "metadata": {},
     "output_type": "execute_result"
    }
   ],
   "source": [
    "# imports the data from the tables\n",
    "tables2017 = pd.read_html('prosjekt\\\\2017\\\\table.xls', encoding=\"UTF-8\")[0]\n",
    "tables2018 = pd.read_html('prosjekt\\\\2018\\\\table.xls', encoding=\"UTF-8\")[0]\n",
    "tables2019 = pd.read_html('prosjekt\\\\2019\\\\table.xls', encoding=\"UTF-8\")[0]\n",
    "\n",
    "# extracts the relevant data, there are no NaN values, so we dont have to remove them\n",
    "position2017 = tables2017[[\"Rk\", \"Squad\", \"GF\", \"GD\"]]\n",
    "position2018 = tables2018[[\"Rk\", \"Squad\", \"GF\", \"GD\"]]\n",
    "position2019 = tables2019[[\"Rk\", \"Squad\", \"GF\", \"GD\"]]\n",
    "\n",
    "position2017"
   ]
  },
  {
   "cell_type": "code",
   "execution_count": 30,
   "id": "180f7281",
   "metadata": {},
   "outputs": [
    {
     "data": {
      "text/html": [
       "<div>\n",
       "<style scoped>\n",
       "    .dataframe tbody tr th:only-of-type {\n",
       "        vertical-align: middle;\n",
       "    }\n",
       "\n",
       "    .dataframe tbody tr th {\n",
       "        vertical-align: top;\n",
       "    }\n",
       "\n",
       "    .dataframe thead th {\n",
       "        text-align: right;\n",
       "    }\n",
       "</style>\n",
       "<table border=\"1\" class=\"dataframe\">\n",
       "  <thead>\n",
       "    <tr style=\"text-align: right;\">\n",
       "      <th></th>\n",
       "      <th>Squad</th>\n",
       "      <th>Age</th>\n",
       "    </tr>\n",
       "  </thead>\n",
       "  <tbody>\n",
       "    <tr>\n",
       "      <th>0</th>\n",
       "      <td>Arna-Bjørnar</td>\n",
       "      <td>22.0</td>\n",
       "    </tr>\n",
       "    <tr>\n",
       "      <th>1</th>\n",
       "      <td>Avaldsnes</td>\n",
       "      <td>25.5</td>\n",
       "    </tr>\n",
       "    <tr>\n",
       "      <th>2</th>\n",
       "      <td>Grand Bodø</td>\n",
       "      <td>22.7</td>\n",
       "    </tr>\n",
       "    <tr>\n",
       "      <th>3</th>\n",
       "      <td>Klepp</td>\n",
       "      <td>23.5</td>\n",
       "    </tr>\n",
       "    <tr>\n",
       "      <th>4</th>\n",
       "      <td>Kolbotn</td>\n",
       "      <td>21.9</td>\n",
       "    </tr>\n",
       "    <tr>\n",
       "      <th>5</th>\n",
       "      <td>LSK Kvinner</td>\n",
       "      <td>24.2</td>\n",
       "    </tr>\n",
       "    <tr>\n",
       "      <th>6</th>\n",
       "      <td>Medkila</td>\n",
       "      <td>20.9</td>\n",
       "    </tr>\n",
       "    <tr>\n",
       "      <th>7</th>\n",
       "      <td>Røa</td>\n",
       "      <td>22.8</td>\n",
       "    </tr>\n",
       "    <tr>\n",
       "      <th>8</th>\n",
       "      <td>Sandviken</td>\n",
       "      <td>24.4</td>\n",
       "    </tr>\n",
       "    <tr>\n",
       "      <th>9</th>\n",
       "      <td>Stabæk</td>\n",
       "      <td>25.5</td>\n",
       "    </tr>\n",
       "    <tr>\n",
       "      <th>10</th>\n",
       "      <td>Trondheims-Ørn</td>\n",
       "      <td>22.1</td>\n",
       "    </tr>\n",
       "    <tr>\n",
       "      <th>11</th>\n",
       "      <td>Vålerenga</td>\n",
       "      <td>25.8</td>\n",
       "    </tr>\n",
       "  </tbody>\n",
       "</table>\n",
       "</div>"
      ],
      "text/plain": [
       "             Squad   Age\n",
       "0     Arna-Bjørnar  22.0\n",
       "1        Avaldsnes  25.5\n",
       "2       Grand Bodø  22.7\n",
       "3            Klepp  23.5\n",
       "4          Kolbotn  21.9\n",
       "5      LSK Kvinner  24.2\n",
       "6          Medkila  20.9\n",
       "7              Røa  22.8\n",
       "8        Sandviken  24.4\n",
       "9           Stabæk  25.5\n",
       "10  Trondheims-Ørn  22.1\n",
       "11       Vålerenga  25.8"
      ]
     },
     "execution_count": 30,
     "metadata": {},
     "output_type": "execute_result"
    }
   ],
   "source": [
    "# imports data\n",
    "teams2017 = pd.read_html('prosjekt\\\\2017\\\\team-stats.xls', encoding=\"UTF-8\")[0]\n",
    "teams2018 = pd.read_html('prosjekt\\\\2018\\\\team-stats.xls', encoding=\"UTF-8\")[0]\n",
    "teams2019 = pd.read_html('prosjekt\\\\2019\\\\team-stats.xls', encoding=\"UTF-8\")[0]\n",
    "\n",
    "# extracts the relevant data, there are no NaN values, so we dont have to remove them\n",
    "age2017 = teams2017[[('Unnamed: 0_level_0',  'Squad'), ('Unnamed: 2_level_0',    'Age')]]\n",
    "age2018 = teams2018[[('Unnamed: 0_level_0',  'Squad'), ('Unnamed: 2_level_0',    'Age')]]\n",
    "age2019 = teams2019[[('Unnamed: 0_level_0',  'Squad'), ('Unnamed: 2_level_0',    'Age')]]\n",
    "\n",
    "# the data has 2 levels which makes it tough to work with, so im dropping a level\n",
    "age2017.columns = age2017.columns.droplevel()\n",
    "age2018.columns = age2018.columns.droplevel()\n",
    "age2019.columns = age2019.columns.droplevel()\n",
    "\n",
    "age2017"
   ]
  },
  {
   "cell_type": "code",
   "execution_count": 35,
   "id": "71b05707",
   "metadata": {
    "scrolled": false
   },
   "outputs": [
    {
     "data": {
      "image/png": "[encoded data removed]",
      "text/plain": [
       "<Figure size 432x288 with 1 Axes>"
      ]
     },
     "metadata": {
      "needs_background": "light"
     },
     "output_type": "display_data"
    },
    {
     "data": {
      "image/png": "[encoded data removed]",
      "text/plain": [
       "<Figure size 432x288 with 1 Axes>"
      ]
     },
     "metadata": {
      "needs_background": "light"
     },
     "output_type": "display_data"
    },
    {
     "data": {
      "image/png": "[encoded data removed]",
      "text/plain": [
       "<Figure size 432x288 with 1 Axes>"
      ]
     },
     "metadata": {
      "needs_background": "light"
     },
     "output_type": "display_data"
    }
   ],
   "source": [
    "# merges ages and the positions to get the relevant data\n",
    "age2017a = age2017.merge(position2017, left_on='Squad', right_on=\"Squad\").sort_values(\"Rk\")\n",
    "age2018a = age2018.merge(position2018, left_on='Squad', right_on=\"Squad\").sort_values(\"Rk\")\n",
    "age2019a = age2019.merge(position2019, left_on='Squad', right_on=\"Squad\").sort_values(\"Rk\")\n",
    "\n",
    "# plots the data, added ylim to make the data more readable\n",
    "plt1 = age2017a.plot(x=\"Rk\", y=\"Age\", kind = \"bar\", ylim = (19, 27))\n",
    "plt2 = age2018a.plot(x=\"Rk\", y=\"Age\", kind = \"bar\", ylim = (19, 27))\n",
    "plt3 = age2019a.plot(x=\"Rk\", y=\"Age\", kind = \"bar\", ylim = (19, 27))"
   ]
  },
  {
   "cell_type": "markdown",
   "id": "9d14457b",
   "metadata": {},
   "source": [
    "these graphs shows how the ranking of the team and the average age of the team members are related, you can see that the data varies a lot from year to year and that the data is unconsistent with where the teams rank. the only consistent data i can find is that there are on average more young people at the lower half of the results than there are on the upper half of the rankings, but there are relatively youg teams placeing in the upper half in 2018, so it is hard to use this data to predict anything because it is so inconsistent.<br><br>\n",
    "next i am going to look at how the ammout of goals in total compared to the goal differance"
   ]
  },
  {
   "cell_type": "code",
   "execution_count": 40,
   "id": "4e80c944",
   "metadata": {},
   "outputs": [
    {
     "data": {
      "image/png": "[encoded data removed]",
      "text/plain": [
       "<Figure size 432x288 with 1 Axes>"
      ]
     },
     "metadata": {
      "needs_background": "light"
     },
     "output_type": "display_data"
    },
    {
     "data": {
      "image/png": "[encoded data removed]",
      "text/plain": [
       "<Figure size 432x288 with 1 Axes>"
      ]
     },
     "metadata": {
      "needs_background": "light"
     },
     "output_type": "display_data"
    },
    {
     "data": {
      "image/png": "[encoded data removed]",
      "text/plain": [
       "<Figure size 432x288 with 1 Axes>"
      ]
     },
     "metadata": {
      "needs_background": "light"
     },
     "output_type": "display_data"
    }
   ],
   "source": [
    "# plots the data\n",
    "plt1 = position2017.plot(x=\"Rk\", y=\"GD\", kind = \"bar\")\n",
    "plt2 = position2018.plot(x=\"Rk\", y=\"GD\", kind = \"bar\")\n",
    "plt3 = position2019.plot(x=\"Rk\", y=\"GD\", kind = \"bar\")"
   ]
  },
  {
   "cell_type": "markdown",
   "id": "5b4770d4",
   "metadata": {},
   "source": [
    "her kan man se at målforskjellen er knyttet til possisjonen til laget. lag som gjorde det dårlig er de som slepper inn fleire mål en motstanderen, og lag som gjorde det bra skårte fleire mål en motstanderen. så dette gir meining, men så kan vi se på om det lønner seg å spille agresivt og skåre mange mål, eller deffansivt å skåre få mål"
   ]
  },
  {
   "cell_type": "code",
   "execution_count": 41,
   "id": "e17aad02",
   "metadata": {},
   "outputs": [
    {
     "data": {
      "image/png": "[encoded data removed]",
      "text/plain": [
       "<Figure size 432x288 with 1 Axes>"
      ]
     },
     "metadata": {
      "needs_background": "light"
     },
     "output_type": "display_data"
    },
    {
     "data": {
      "image/png": "[encoded data removed]",
      "text/plain": [
       "<Figure size 432x288 with 1 Axes>"
      ]
     },
     "metadata": {
      "needs_background": "light"
     },
     "output_type": "display_data"
    },
    {
     "data": {
      "image/png": "[encoded data removed]",
      "text/plain": [
       "<Figure size 432x288 with 1 Axes>"
      ]
     },
     "metadata": {
      "needs_background": "light"
     },
     "output_type": "display_data"
    }
   ],
   "source": [
    "# plots the data\n",
    "plt1 = position2017.plot(x=\"Rk\", y=\"GF\", kind = \"bar\")\n",
    "plt2 = position2018.plot(x=\"Rk\", y=\"GF\", kind = \"bar\")\n",
    "plt3 = position2019.plot(x=\"Rk\", y=\"GF\", kind = \"bar\")"
   ]
  },
  {
   "cell_type": "markdown",
   "id": "3163ea3a",
   "metadata": {},
   "source": [
    "her ser man att det er de som får flest mål som gjør det best, det er noen untak, som 2. plass hvert år, men generelt er det de som skårer mest som vinner cupen. eg tolker dette som om at de offansive lagene vanligvis gjør det bedre en de defansive lagene. "
   ]
  },
  {
   "cell_type": "code",
   "execution_count": null,
   "id": "eec47639",
   "metadata": {},
   "outputs": [],
   "source": []
  }
 ],
 "metadata": {
  "kernelspec": {
   "display_name": "Python 3",
   "language": "python",
   "name": "python3"
  },
  "language_info": {
   "codemirror_mode": {
    "name": "ipython",
    "version": 3
   },
   "file_extension": ".py",
   "mimetype": "text/x-python",
   "name": "python",
   "nbconvert_exporter": "python",
   "pygments_lexer": "ipython3",
   "version": "3.8.8"
  }
 },
 "nbformat": 4,
 "nbformat_minor": 5
}
